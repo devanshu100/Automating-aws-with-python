{
  "nbformat": 4,
  "nbformat_minor": 0,
  "metadata": {
    "colab": {
      "name": "TSW_IIT_hack#1_stack_reducedattr_2rf_opt.ipynb",
      "provenance": [],
      "collapsed_sections": []
    },
    "kernelspec": {
      "name": "python3",
      "display_name": "Python 3"
    },
    "language_info": {
      "name": "python"
    }
  },
  "cells": [
    {
      "cell_type": "code",
      "metadata": {
        "id": "JJg0Nr1VmSHg"
      },
      "source": [
        "import pandas as pd\n",
        "import numpy as np\n",
        "import re"
      ],
      "execution_count": 1,
      "outputs": []
    },
    {
      "cell_type": "code",
      "metadata": {
        "id": "litUVzy_Q9jC"
      },
      "source": [
        "def ageCategorization(x):\n",
        "  record = int(re.sub('[a-zA-Z]','',x))\n",
        "  if (record <= 21):\n",
        "    result = 'below21'\n",
        "  elif (record >= 21 and record <= 30):\n",
        "    result = 'between21to30'\n",
        "  elif (record >= 31 and record <= 40):\n",
        "    result = 'between31to40'\n",
        "  elif (record >= 41 and record < 50):\n",
        "    result = 'between41to50'\n",
        "  elif (record >= 50):\n",
        "    result = '50plus'\n",
        "  else:\n",
        "    result = 'None'\n",
        "  \n",
        "  return result"
      ],
      "execution_count": 2,
      "outputs": []
    },
    {
      "cell_type": "code",
      "metadata": {
        "id": "xFb7e6ZRXVyB"
      },
      "source": [
        "# def GEQCategory(min5, min15, min25):\n",
        "#   if (min5 == 1 & min15 == 1 & min25 == 1):\n",
        "#     category = 'GEQ25min'\n",
        "#   elif (min5 == 1 & min15 == 1 & min25 == 0):\n",
        "#     category = 'GEQ15min'\n",
        "#   elif (min5 == 1 & min15 == 0 & min25 == 0):\n",
        "#     category = 'GEQ5min'\n",
        "#   else:\n",
        "#     category = 'None'\n",
        "  \n",
        "#   return category\n",
        "def GEQCategory(data):\n",
        "  if (data == 3):\n",
        "    category = 'GEQ25min'\n",
        "  elif (data == 2):\n",
        "    category = 'GEQ15min'\n",
        "  else:\n",
        "    category = 'GEQ5min'\n",
        "\n",
        "  return category"
      ],
      "execution_count": 3,
      "outputs": []
    },
    {
      "cell_type": "markdown",
      "metadata": {
        "id": "Mp1EjsOUx5LM"
      },
      "source": [
        "***Creating GEQ_Category Column for analysis and re-Categorizing age Attribute for cleaner buckets.***"
      ]
    },
    {
      "cell_type": "code",
      "metadata": {
        "colab": {
          "base_uri": "https://localhost:8080/",
          "height": 399
        },
        "id": "QC4vn0UzmeLE",
        "outputId": "a4333d89-7899-4814-9c33-a2b283c9512d"
      },
      "source": [
        "couponData = pd.read_csv('/content/drive/MyDrive/TSW_IIT_HACKATHON_#1/train.csv')\n",
        "couponData['age_category'] = couponData['age'].apply(ageCategorization)\n",
        "GEQ_Sum = couponData['toCoupon_GEQ5min'] + couponData['toCoupon_GEQ15min'] + couponData['toCoupon_GEQ25min']\n",
        "couponData['GEQ_Cat_Sum'] = GEQ_Sum\n",
        "couponData['GEQ_Category'] = couponData['GEQ_Cat_Sum'].apply(GEQCategory)\n",
        "couponData.head()"
      ],
      "execution_count": 4,
      "outputs": [
        {
          "output_type": "execute_result",
          "data": {
            "text/html": [
              "<div>\n",
              "<style scoped>\n",
              "    .dataframe tbody tr th:only-of-type {\n",
              "        vertical-align: middle;\n",
              "    }\n",
              "\n",
              "    .dataframe tbody tr th {\n",
              "        vertical-align: top;\n",
              "    }\n",
              "\n",
              "    .dataframe thead th {\n",
              "        text-align: right;\n",
              "    }\n",
              "</style>\n",
              "<table border=\"1\" class=\"dataframe\">\n",
              "  <thead>\n",
              "    <tr style=\"text-align: right;\">\n",
              "      <th></th>\n",
              "      <th>customer_id</th>\n",
              "      <th>destination</th>\n",
              "      <th>passanger</th>\n",
              "      <th>weather</th>\n",
              "      <th>temperature</th>\n",
              "      <th>time</th>\n",
              "      <th>coupon</th>\n",
              "      <th>expiration</th>\n",
              "      <th>gender</th>\n",
              "      <th>age</th>\n",
              "      <th>maritalStatus</th>\n",
              "      <th>has_children</th>\n",
              "      <th>education</th>\n",
              "      <th>occupation</th>\n",
              "      <th>income</th>\n",
              "      <th>car</th>\n",
              "      <th>Bar</th>\n",
              "      <th>CoffeeHouse</th>\n",
              "      <th>CarryAway</th>\n",
              "      <th>RestaurantLessThan20</th>\n",
              "      <th>Restaurant20To50</th>\n",
              "      <th>toCoupon_GEQ5min</th>\n",
              "      <th>toCoupon_GEQ15min</th>\n",
              "      <th>toCoupon_GEQ25min</th>\n",
              "      <th>direction_same</th>\n",
              "      <th>direction_opp</th>\n",
              "      <th>Y</th>\n",
              "      <th>age_category</th>\n",
              "      <th>GEQ_Cat_Sum</th>\n",
              "      <th>GEQ_Category</th>\n",
              "    </tr>\n",
              "  </thead>\n",
              "  <tbody>\n",
              "    <tr>\n",
              "      <th>0</th>\n",
              "      <td>258868</td>\n",
              "      <td>No Urgent Place</td>\n",
              "      <td>Friend(s)</td>\n",
              "      <td>Sunny</td>\n",
              "      <td>80</td>\n",
              "      <td>6PM</td>\n",
              "      <td>Restaurant(&lt;20)</td>\n",
              "      <td>1d</td>\n",
              "      <td>Male</td>\n",
              "      <td>21</td>\n",
              "      <td>Unmarried partner</td>\n",
              "      <td>0</td>\n",
              "      <td>Some college - no degree</td>\n",
              "      <td>Student</td>\n",
              "      <td>Less than $12500</td>\n",
              "      <td>NaN</td>\n",
              "      <td>less1</td>\n",
              "      <td>1~3</td>\n",
              "      <td>4~8</td>\n",
              "      <td>4~8</td>\n",
              "      <td>never</td>\n",
              "      <td>1</td>\n",
              "      <td>1</td>\n",
              "      <td>0</td>\n",
              "      <td>0</td>\n",
              "      <td>1</td>\n",
              "      <td>1</td>\n",
              "      <td>below21</td>\n",
              "      <td>2</td>\n",
              "      <td>GEQ15min</td>\n",
              "    </tr>\n",
              "    <tr>\n",
              "      <th>1</th>\n",
              "      <td>318369</td>\n",
              "      <td>Work</td>\n",
              "      <td>Alone</td>\n",
              "      <td>Sunny</td>\n",
              "      <td>80</td>\n",
              "      <td>7AM</td>\n",
              "      <td>Restaurant(&lt;20)</td>\n",
              "      <td>2h</td>\n",
              "      <td>Male</td>\n",
              "      <td>21</td>\n",
              "      <td>Single</td>\n",
              "      <td>0</td>\n",
              "      <td>Bachelors degree</td>\n",
              "      <td>Student</td>\n",
              "      <td>$37500 - $49999</td>\n",
              "      <td>NaN</td>\n",
              "      <td>less1</td>\n",
              "      <td>1~3</td>\n",
              "      <td>4~8</td>\n",
              "      <td>1~3</td>\n",
              "      <td>less1</td>\n",
              "      <td>1</td>\n",
              "      <td>0</td>\n",
              "      <td>0</td>\n",
              "      <td>1</td>\n",
              "      <td>0</td>\n",
              "      <td>0</td>\n",
              "      <td>below21</td>\n",
              "      <td>1</td>\n",
              "      <td>GEQ5min</td>\n",
              "    </tr>\n",
              "    <tr>\n",
              "      <th>2</th>\n",
              "      <td>320906</td>\n",
              "      <td>No Urgent Place</td>\n",
              "      <td>Alone</td>\n",
              "      <td>Sunny</td>\n",
              "      <td>80</td>\n",
              "      <td>10AM</td>\n",
              "      <td>Coffee House</td>\n",
              "      <td>2h</td>\n",
              "      <td>Female</td>\n",
              "      <td>21</td>\n",
              "      <td>Married partner</td>\n",
              "      <td>0</td>\n",
              "      <td>Some college - no degree</td>\n",
              "      <td>Student</td>\n",
              "      <td>Less than $12500</td>\n",
              "      <td>NaN</td>\n",
              "      <td>less1</td>\n",
              "      <td>gt8</td>\n",
              "      <td>4~8</td>\n",
              "      <td>1~3</td>\n",
              "      <td>1~3</td>\n",
              "      <td>1</td>\n",
              "      <td>1</td>\n",
              "      <td>0</td>\n",
              "      <td>0</td>\n",
              "      <td>1</td>\n",
              "      <td>0</td>\n",
              "      <td>below21</td>\n",
              "      <td>2</td>\n",
              "      <td>GEQ15min</td>\n",
              "    </tr>\n",
              "    <tr>\n",
              "      <th>3</th>\n",
              "      <td>412393</td>\n",
              "      <td>Work</td>\n",
              "      <td>Alone</td>\n",
              "      <td>Rainy</td>\n",
              "      <td>55</td>\n",
              "      <td>7AM</td>\n",
              "      <td>Restaurant(&lt;20)</td>\n",
              "      <td>2h</td>\n",
              "      <td>Female</td>\n",
              "      <td>26</td>\n",
              "      <td>Single</td>\n",
              "      <td>0</td>\n",
              "      <td>Bachelors degree</td>\n",
              "      <td>Computer &amp; Mathematical</td>\n",
              "      <td>$25000 - $37499</td>\n",
              "      <td>NaN</td>\n",
              "      <td>less1</td>\n",
              "      <td>less1</td>\n",
              "      <td>4~8</td>\n",
              "      <td>1~3</td>\n",
              "      <td>never</td>\n",
              "      <td>1</td>\n",
              "      <td>1</td>\n",
              "      <td>1</td>\n",
              "      <td>0</td>\n",
              "      <td>1</td>\n",
              "      <td>0</td>\n",
              "      <td>between21to30</td>\n",
              "      <td>3</td>\n",
              "      <td>GEQ25min</td>\n",
              "    </tr>\n",
              "    <tr>\n",
              "      <th>4</th>\n",
              "      <td>290854</td>\n",
              "      <td>Home</td>\n",
              "      <td>Alone</td>\n",
              "      <td>Snowy</td>\n",
              "      <td>30</td>\n",
              "      <td>6PM</td>\n",
              "      <td>Coffee House</td>\n",
              "      <td>1d</td>\n",
              "      <td>Male</td>\n",
              "      <td>31</td>\n",
              "      <td>Single</td>\n",
              "      <td>0</td>\n",
              "      <td>Some college - no degree</td>\n",
              "      <td>Unemployed</td>\n",
              "      <td>$12500 - $24999</td>\n",
              "      <td>NaN</td>\n",
              "      <td>1~3</td>\n",
              "      <td>less1</td>\n",
              "      <td>4~8</td>\n",
              "      <td>less1</td>\n",
              "      <td>never</td>\n",
              "      <td>1</td>\n",
              "      <td>1</td>\n",
              "      <td>0</td>\n",
              "      <td>0</td>\n",
              "      <td>1</td>\n",
              "      <td>0</td>\n",
              "      <td>between31to40</td>\n",
              "      <td>2</td>\n",
              "      <td>GEQ15min</td>\n",
              "    </tr>\n",
              "  </tbody>\n",
              "</table>\n",
              "</div>"
            ],
            "text/plain": [
              "   customer_id      destination  ... GEQ_Cat_Sum GEQ_Category\n",
              "0       258868  No Urgent Place  ...           2     GEQ15min\n",
              "1       318369             Work  ...           1      GEQ5min\n",
              "2       320906  No Urgent Place  ...           2     GEQ15min\n",
              "3       412393             Work  ...           3     GEQ25min\n",
              "4       290854             Home  ...           2     GEQ15min\n",
              "\n",
              "[5 rows x 30 columns]"
            ]
          },
          "metadata": {
            "tags": []
          },
          "execution_count": 4
        }
      ]
    },
    {
      "cell_type": "code",
      "metadata": {
        "colab": {
          "base_uri": "https://localhost:8080/"
        },
        "id": "e9hIn2dCtCn9",
        "outputId": "df3b9af1-2991-44db-c957-240b5c02ed57"
      },
      "source": [
        "from google.colab import drive\n",
        "drive.mount('/content/drive')"
      ],
      "execution_count": 5,
      "outputs": [
        {
          "output_type": "stream",
          "text": [
            "Drive already mounted at /content/drive; to attempt to forcibly remount, call drive.mount(\"/content/drive\", force_remount=True).\n"
          ],
          "name": "stdout"
        }
      ]
    },
    {
      "cell_type": "markdown",
      "metadata": {
        "id": "NIcil1gOyTY7"
      },
      "source": [
        "***Analyzing Basic Attribute information like datatypes columns having null values. Total no of records in the data etc.***"
      ]
    },
    {
      "cell_type": "code",
      "metadata": {
        "colab": {
          "base_uri": "https://localhost:8080/"
        },
        "id": "mNzz_AipoIco",
        "outputId": "251e18c5-f107-4e46-c1c0-eb50ab558f26"
      },
      "source": [
        "couponData.info()"
      ],
      "execution_count": 6,
      "outputs": [
        {
          "output_type": "stream",
          "text": [
            "<class 'pandas.core.frame.DataFrame'>\n",
            "RangeIndex: 10147 entries, 0 to 10146\n",
            "Data columns (total 30 columns):\n",
            " #   Column                Non-Null Count  Dtype \n",
            "---  ------                --------------  ----- \n",
            " 0   customer_id           10147 non-null  int64 \n",
            " 1   destination           10147 non-null  object\n",
            " 2   passanger             10147 non-null  object\n",
            " 3   weather               10147 non-null  object\n",
            " 4   temperature           10147 non-null  int64 \n",
            " 5   time                  10147 non-null  object\n",
            " 6   coupon                10147 non-null  object\n",
            " 7   expiration            10147 non-null  object\n",
            " 8   gender                10147 non-null  object\n",
            " 9   age                   10147 non-null  object\n",
            " 10  maritalStatus         10147 non-null  object\n",
            " 11  has_children          10147 non-null  int64 \n",
            " 12  education             10147 non-null  object\n",
            " 13  occupation            10147 non-null  object\n",
            " 14  income                10147 non-null  object\n",
            " 15  car                   84 non-null     object\n",
            " 16  Bar                   10059 non-null  object\n",
            " 17  CoffeeHouse           9975 non-null   object\n",
            " 18  CarryAway             10025 non-null  object\n",
            " 19  RestaurantLessThan20  10050 non-null  object\n",
            " 20  Restaurant20To50      9999 non-null   object\n",
            " 21  toCoupon_GEQ5min      10147 non-null  int64 \n",
            " 22  toCoupon_GEQ15min     10147 non-null  int64 \n",
            " 23  toCoupon_GEQ25min     10147 non-null  int64 \n",
            " 24  direction_same        10147 non-null  int64 \n",
            " 25  direction_opp         10147 non-null  int64 \n",
            " 26  Y                     10147 non-null  int64 \n",
            " 27  age_category          10147 non-null  object\n",
            " 28  GEQ_Cat_Sum           10147 non-null  int64 \n",
            " 29  GEQ_Category          10147 non-null  object\n",
            "dtypes: int64(10), object(20)\n",
            "memory usage: 2.3+ MB\n"
          ],
          "name": "stdout"
        }
      ]
    },
    {
      "cell_type": "markdown",
      "metadata": {
        "id": "xwB6_grSzVfD"
      },
      "source": [
        "***Analysis Cell:***\n",
        "\n",
        "Based on output obtained from the info function below are basic inferences from data.\n",
        "\n",
        "1> Maximum no of attributes do not have null values. columns like Bar, CoffeeHouse, CarryAway, RestaurantLessThan20, Restaurant20To50 have null values.\n",
        "2> car attribute as 0.8% non-null thus it does not make sense pursuing this column for model as even null value handling will not yield any significance in this attributes influence on final outcome."
      ]
    },
    {
      "cell_type": "markdown",
      "metadata": {
        "id": "RzY-xAbvy7Qf"
      },
      "source": [
        "***Describing the Numerical Attributes to get various statistical analysis of each attribute***"
      ]
    },
    {
      "cell_type": "code",
      "metadata": {
        "colab": {
          "base_uri": "https://localhost:8080/",
          "height": 449
        },
        "id": "Vcr8DrAlpJyK",
        "outputId": "b0f85204-908a-4c1f-d2ae-f297231b8e48"
      },
      "source": [
        "couponData.describe(include='all')"
      ],
      "execution_count": 7,
      "outputs": [
        {
          "output_type": "execute_result",
          "data": {
            "text/html": [
              "<div>\n",
              "<style scoped>\n",
              "    .dataframe tbody tr th:only-of-type {\n",
              "        vertical-align: middle;\n",
              "    }\n",
              "\n",
              "    .dataframe tbody tr th {\n",
              "        vertical-align: top;\n",
              "    }\n",
              "\n",
              "    .dataframe thead th {\n",
              "        text-align: right;\n",
              "    }\n",
              "</style>\n",
              "<table border=\"1\" class=\"dataframe\">\n",
              "  <thead>\n",
              "    <tr style=\"text-align: right;\">\n",
              "      <th></th>\n",
              "      <th>customer_id</th>\n",
              "      <th>destination</th>\n",
              "      <th>passanger</th>\n",
              "      <th>weather</th>\n",
              "      <th>temperature</th>\n",
              "      <th>time</th>\n",
              "      <th>coupon</th>\n",
              "      <th>expiration</th>\n",
              "      <th>gender</th>\n",
              "      <th>age</th>\n",
              "      <th>maritalStatus</th>\n",
              "      <th>has_children</th>\n",
              "      <th>education</th>\n",
              "      <th>occupation</th>\n",
              "      <th>income</th>\n",
              "      <th>car</th>\n",
              "      <th>Bar</th>\n",
              "      <th>CoffeeHouse</th>\n",
              "      <th>CarryAway</th>\n",
              "      <th>RestaurantLessThan20</th>\n",
              "      <th>Restaurant20To50</th>\n",
              "      <th>toCoupon_GEQ5min</th>\n",
              "      <th>toCoupon_GEQ15min</th>\n",
              "      <th>toCoupon_GEQ25min</th>\n",
              "      <th>direction_same</th>\n",
              "      <th>direction_opp</th>\n",
              "      <th>Y</th>\n",
              "      <th>age_category</th>\n",
              "      <th>GEQ_Cat_Sum</th>\n",
              "      <th>GEQ_Category</th>\n",
              "    </tr>\n",
              "  </thead>\n",
              "  <tbody>\n",
              "    <tr>\n",
              "      <th>count</th>\n",
              "      <td>10147.000000</td>\n",
              "      <td>10147</td>\n",
              "      <td>10147</td>\n",
              "      <td>10147</td>\n",
              "      <td>10147.000000</td>\n",
              "      <td>10147</td>\n",
              "      <td>10147</td>\n",
              "      <td>10147</td>\n",
              "      <td>10147</td>\n",
              "      <td>10147</td>\n",
              "      <td>10147</td>\n",
              "      <td>10147.000000</td>\n",
              "      <td>10147</td>\n",
              "      <td>10147</td>\n",
              "      <td>10147</td>\n",
              "      <td>84</td>\n",
              "      <td>10059</td>\n",
              "      <td>9975</td>\n",
              "      <td>10025</td>\n",
              "      <td>10050</td>\n",
              "      <td>9999</td>\n",
              "      <td>10147.0</td>\n",
              "      <td>10147.000000</td>\n",
              "      <td>10147.000000</td>\n",
              "      <td>10147.000000</td>\n",
              "      <td>10147.000000</td>\n",
              "      <td>10147.000000</td>\n",
              "      <td>10147</td>\n",
              "      <td>10147.000000</td>\n",
              "      <td>10147</td>\n",
              "    </tr>\n",
              "    <tr>\n",
              "      <th>unique</th>\n",
              "      <td>NaN</td>\n",
              "      <td>3</td>\n",
              "      <td>4</td>\n",
              "      <td>3</td>\n",
              "      <td>NaN</td>\n",
              "      <td>5</td>\n",
              "      <td>5</td>\n",
              "      <td>2</td>\n",
              "      <td>2</td>\n",
              "      <td>8</td>\n",
              "      <td>5</td>\n",
              "      <td>NaN</td>\n",
              "      <td>6</td>\n",
              "      <td>25</td>\n",
              "      <td>9</td>\n",
              "      <td>5</td>\n",
              "      <td>5</td>\n",
              "      <td>5</td>\n",
              "      <td>5</td>\n",
              "      <td>5</td>\n",
              "      <td>5</td>\n",
              "      <td>NaN</td>\n",
              "      <td>NaN</td>\n",
              "      <td>NaN</td>\n",
              "      <td>NaN</td>\n",
              "      <td>NaN</td>\n",
              "      <td>NaN</td>\n",
              "      <td>5</td>\n",
              "      <td>NaN</td>\n",
              "      <td>3</td>\n",
              "    </tr>\n",
              "    <tr>\n",
              "      <th>top</th>\n",
              "      <td>NaN</td>\n",
              "      <td>No Urgent Place</td>\n",
              "      <td>Alone</td>\n",
              "      <td>Sunny</td>\n",
              "      <td>NaN</td>\n",
              "      <td>6PM</td>\n",
              "      <td>Coffee House</td>\n",
              "      <td>1d</td>\n",
              "      <td>Female</td>\n",
              "      <td>21</td>\n",
              "      <td>Married partner</td>\n",
              "      <td>NaN</td>\n",
              "      <td>Bachelors degree</td>\n",
              "      <td>Unemployed</td>\n",
              "      <td>$25000 - $37499</td>\n",
              "      <td>crossover</td>\n",
              "      <td>never</td>\n",
              "      <td>less1</td>\n",
              "      <td>1~3</td>\n",
              "      <td>1~3</td>\n",
              "      <td>less1</td>\n",
              "      <td>NaN</td>\n",
              "      <td>NaN</td>\n",
              "      <td>NaN</td>\n",
              "      <td>NaN</td>\n",
              "      <td>NaN</td>\n",
              "      <td>NaN</td>\n",
              "      <td>between31to40</td>\n",
              "      <td>NaN</td>\n",
              "      <td>GEQ15min</td>\n",
              "    </tr>\n",
              "    <tr>\n",
              "      <th>freq</th>\n",
              "      <td>NaN</td>\n",
              "      <td>5045</td>\n",
              "      <td>5802</td>\n",
              "      <td>8015</td>\n",
              "      <td>NaN</td>\n",
              "      <td>2576</td>\n",
              "      <td>3191</td>\n",
              "      <td>5643</td>\n",
              "      <td>5204</td>\n",
              "      <td>2133</td>\n",
              "      <td>4086</td>\n",
              "      <td>NaN</td>\n",
              "      <td>3511</td>\n",
              "      <td>1485</td>\n",
              "      <td>1622</td>\n",
              "      <td>18</td>\n",
              "      <td>4150</td>\n",
              "      <td>2696</td>\n",
              "      <td>3741</td>\n",
              "      <td>4296</td>\n",
              "      <td>4889</td>\n",
              "      <td>NaN</td>\n",
              "      <td>NaN</td>\n",
              "      <td>NaN</td>\n",
              "      <td>NaN</td>\n",
              "      <td>NaN</td>\n",
              "      <td>NaN</td>\n",
              "      <td>2701</td>\n",
              "      <td>NaN</td>\n",
              "      <td>4497</td>\n",
              "    </tr>\n",
              "    <tr>\n",
              "      <th>mean</th>\n",
              "      <td>311272.276831</td>\n",
              "      <td>NaN</td>\n",
              "      <td>NaN</td>\n",
              "      <td>NaN</td>\n",
              "      <td>63.172366</td>\n",
              "      <td>NaN</td>\n",
              "      <td>NaN</td>\n",
              "      <td>NaN</td>\n",
              "      <td>NaN</td>\n",
              "      <td>NaN</td>\n",
              "      <td>NaN</td>\n",
              "      <td>0.412634</td>\n",
              "      <td>NaN</td>\n",
              "      <td>NaN</td>\n",
              "      <td>NaN</td>\n",
              "      <td>NaN</td>\n",
              "      <td>NaN</td>\n",
              "      <td>NaN</td>\n",
              "      <td>NaN</td>\n",
              "      <td>NaN</td>\n",
              "      <td>NaN</td>\n",
              "      <td>1.0</td>\n",
              "      <td>0.563024</td>\n",
              "      <td>0.119838</td>\n",
              "      <td>0.212181</td>\n",
              "      <td>0.787819</td>\n",
              "      <td>0.568444</td>\n",
              "      <td>NaN</td>\n",
              "      <td>1.682862</td>\n",
              "      <td>NaN</td>\n",
              "    </tr>\n",
              "    <tr>\n",
              "      <th>std</th>\n",
              "      <td>106781.701016</td>\n",
              "      <td>NaN</td>\n",
              "      <td>NaN</td>\n",
              "      <td>NaN</td>\n",
              "      <td>19.232595</td>\n",
              "      <td>NaN</td>\n",
              "      <td>NaN</td>\n",
              "      <td>NaN</td>\n",
              "      <td>NaN</td>\n",
              "      <td>NaN</td>\n",
              "      <td>NaN</td>\n",
              "      <td>0.492332</td>\n",
              "      <td>NaN</td>\n",
              "      <td>NaN</td>\n",
              "      <td>NaN</td>\n",
              "      <td>NaN</td>\n",
              "      <td>NaN</td>\n",
              "      <td>NaN</td>\n",
              "      <td>NaN</td>\n",
              "      <td>NaN</td>\n",
              "      <td>NaN</td>\n",
              "      <td>0.0</td>\n",
              "      <td>0.496037</td>\n",
              "      <td>0.324788</td>\n",
              "      <td>0.408872</td>\n",
              "      <td>0.408872</td>\n",
              "      <td>0.495318</td>\n",
              "      <td>NaN</td>\n",
              "      <td>0.675487</td>\n",
              "      <td>NaN</td>\n",
              "    </tr>\n",
              "    <tr>\n",
              "      <th>min</th>\n",
              "      <td>123472.000000</td>\n",
              "      <td>NaN</td>\n",
              "      <td>NaN</td>\n",
              "      <td>NaN</td>\n",
              "      <td>30.000000</td>\n",
              "      <td>NaN</td>\n",
              "      <td>NaN</td>\n",
              "      <td>NaN</td>\n",
              "      <td>NaN</td>\n",
              "      <td>NaN</td>\n",
              "      <td>NaN</td>\n",
              "      <td>0.000000</td>\n",
              "      <td>NaN</td>\n",
              "      <td>NaN</td>\n",
              "      <td>NaN</td>\n",
              "      <td>NaN</td>\n",
              "      <td>NaN</td>\n",
              "      <td>NaN</td>\n",
              "      <td>NaN</td>\n",
              "      <td>NaN</td>\n",
              "      <td>NaN</td>\n",
              "      <td>1.0</td>\n",
              "      <td>0.000000</td>\n",
              "      <td>0.000000</td>\n",
              "      <td>0.000000</td>\n",
              "      <td>0.000000</td>\n",
              "      <td>0.000000</td>\n",
              "      <td>NaN</td>\n",
              "      <td>1.000000</td>\n",
              "      <td>NaN</td>\n",
              "    </tr>\n",
              "    <tr>\n",
              "      <th>25%</th>\n",
              "      <td>221439.000000</td>\n",
              "      <td>NaN</td>\n",
              "      <td>NaN</td>\n",
              "      <td>NaN</td>\n",
              "      <td>55.000000</td>\n",
              "      <td>NaN</td>\n",
              "      <td>NaN</td>\n",
              "      <td>NaN</td>\n",
              "      <td>NaN</td>\n",
              "      <td>NaN</td>\n",
              "      <td>NaN</td>\n",
              "      <td>0.000000</td>\n",
              "      <td>NaN</td>\n",
              "      <td>NaN</td>\n",
              "      <td>NaN</td>\n",
              "      <td>NaN</td>\n",
              "      <td>NaN</td>\n",
              "      <td>NaN</td>\n",
              "      <td>NaN</td>\n",
              "      <td>NaN</td>\n",
              "      <td>NaN</td>\n",
              "      <td>1.0</td>\n",
              "      <td>0.000000</td>\n",
              "      <td>0.000000</td>\n",
              "      <td>0.000000</td>\n",
              "      <td>1.000000</td>\n",
              "      <td>0.000000</td>\n",
              "      <td>NaN</td>\n",
              "      <td>1.000000</td>\n",
              "      <td>NaN</td>\n",
              "    </tr>\n",
              "    <tr>\n",
              "      <th>50%</th>\n",
              "      <td>310062.000000</td>\n",
              "      <td>NaN</td>\n",
              "      <td>NaN</td>\n",
              "      <td>NaN</td>\n",
              "      <td>80.000000</td>\n",
              "      <td>NaN</td>\n",
              "      <td>NaN</td>\n",
              "      <td>NaN</td>\n",
              "      <td>NaN</td>\n",
              "      <td>NaN</td>\n",
              "      <td>NaN</td>\n",
              "      <td>0.000000</td>\n",
              "      <td>NaN</td>\n",
              "      <td>NaN</td>\n",
              "      <td>NaN</td>\n",
              "      <td>NaN</td>\n",
              "      <td>NaN</td>\n",
              "      <td>NaN</td>\n",
              "      <td>NaN</td>\n",
              "      <td>NaN</td>\n",
              "      <td>NaN</td>\n",
              "      <td>1.0</td>\n",
              "      <td>1.000000</td>\n",
              "      <td>0.000000</td>\n",
              "      <td>0.000000</td>\n",
              "      <td>1.000000</td>\n",
              "      <td>1.000000</td>\n",
              "      <td>NaN</td>\n",
              "      <td>2.000000</td>\n",
              "      <td>NaN</td>\n",
              "    </tr>\n",
              "    <tr>\n",
              "      <th>75%</th>\n",
              "      <td>401537.000000</td>\n",
              "      <td>NaN</td>\n",
              "      <td>NaN</td>\n",
              "      <td>NaN</td>\n",
              "      <td>80.000000</td>\n",
              "      <td>NaN</td>\n",
              "      <td>NaN</td>\n",
              "      <td>NaN</td>\n",
              "      <td>NaN</td>\n",
              "      <td>NaN</td>\n",
              "      <td>NaN</td>\n",
              "      <td>1.000000</td>\n",
              "      <td>NaN</td>\n",
              "      <td>NaN</td>\n",
              "      <td>NaN</td>\n",
              "      <td>NaN</td>\n",
              "      <td>NaN</td>\n",
              "      <td>NaN</td>\n",
              "      <td>NaN</td>\n",
              "      <td>NaN</td>\n",
              "      <td>NaN</td>\n",
              "      <td>1.0</td>\n",
              "      <td>1.000000</td>\n",
              "      <td>0.000000</td>\n",
              "      <td>0.000000</td>\n",
              "      <td>1.000000</td>\n",
              "      <td>1.000000</td>\n",
              "      <td>NaN</td>\n",
              "      <td>2.000000</td>\n",
              "      <td>NaN</td>\n",
              "    </tr>\n",
              "    <tr>\n",
              "      <th>max</th>\n",
              "      <td>499988.000000</td>\n",
              "      <td>NaN</td>\n",
              "      <td>NaN</td>\n",
              "      <td>NaN</td>\n",
              "      <td>80.000000</td>\n",
              "      <td>NaN</td>\n",
              "      <td>NaN</td>\n",
              "      <td>NaN</td>\n",
              "      <td>NaN</td>\n",
              "      <td>NaN</td>\n",
              "      <td>NaN</td>\n",
              "      <td>1.000000</td>\n",
              "      <td>NaN</td>\n",
              "      <td>NaN</td>\n",
              "      <td>NaN</td>\n",
              "      <td>NaN</td>\n",
              "      <td>NaN</td>\n",
              "      <td>NaN</td>\n",
              "      <td>NaN</td>\n",
              "      <td>NaN</td>\n",
              "      <td>NaN</td>\n",
              "      <td>1.0</td>\n",
              "      <td>1.000000</td>\n",
              "      <td>1.000000</td>\n",
              "      <td>1.000000</td>\n",
              "      <td>1.000000</td>\n",
              "      <td>1.000000</td>\n",
              "      <td>NaN</td>\n",
              "      <td>3.000000</td>\n",
              "      <td>NaN</td>\n",
              "    </tr>\n",
              "  </tbody>\n",
              "</table>\n",
              "</div>"
            ],
            "text/plain": [
              "          customer_id      destination  ...   GEQ_Cat_Sum GEQ_Category\n",
              "count    10147.000000            10147  ...  10147.000000        10147\n",
              "unique            NaN                3  ...           NaN            3\n",
              "top               NaN  No Urgent Place  ...           NaN     GEQ15min\n",
              "freq              NaN             5045  ...           NaN         4497\n",
              "mean    311272.276831              NaN  ...      1.682862          NaN\n",
              "std     106781.701016              NaN  ...      0.675487          NaN\n",
              "min     123472.000000              NaN  ...      1.000000          NaN\n",
              "25%     221439.000000              NaN  ...      1.000000          NaN\n",
              "50%     310062.000000              NaN  ...      2.000000          NaN\n",
              "75%     401537.000000              NaN  ...      2.000000          NaN\n",
              "max     499988.000000              NaN  ...      3.000000          NaN\n",
              "\n",
              "[11 rows x 30 columns]"
            ]
          },
          "metadata": {
            "tags": []
          },
          "execution_count": 7
        }
      ]
    },
    {
      "cell_type": "markdown",
      "metadata": {
        "id": "SXMDz_c30zcB"
      },
      "source": [
        "***Analysis Cell:***\n",
        "\n",
        "Based on output obtained from the info function below are basic inferences from data.\n",
        "\n",
        "1> summary function from pandas gives stats only for numeric attributes by default. Majority of our input attributes are categorical thus we use the include='all' option of describe function so it includes all types of columns and not just numerical.\n",
        "2> categorical columns have basic information as total non null values, total unique values and and top category with most no of records all other statistical observations not applicable to categorical columns are Nan."
      ]
    },
    {
      "cell_type": "code",
      "metadata": {
        "colab": {
          "base_uri": "https://localhost:8080/",
          "height": 454
        },
        "id": "I6BM_J6a5NRJ",
        "outputId": "665c99bd-085f-4266-a880-1954d61161ad"
      },
      "source": [
        "dest_data = couponData.groupby('destination').agg(destination_cnt=('destination',np.count_nonzero))\n",
        "dest_data['total_count'] = len(couponData.index)\n",
        "dest_data['percent'] = dest_data['destination_cnt']/dest_data['total_count']*100\n",
        "# dest_data.loc['Total']= dest_data.sum()\n",
        "print(dest_data)\n",
        "dest_data.plot(kind='bar')"
      ],
      "execution_count": 8,
      "outputs": [
        {
          "output_type": "stream",
          "text": [
            "                 destination_cnt  total_count    percent\n",
            "destination                                             \n",
            "Home                        2572        10147  25.347393\n",
            "No Urgent Place             5045        10147  49.719129\n",
            "Work                        2530        10147  24.933478\n"
          ],
          "name": "stdout"
        },
        {
          "output_type": "execute_result",
          "data": {
            "text/plain": [
              "<matplotlib.axes._subplots.AxesSubplot at 0x7f7fb10e14d0>"
            ]
          },
          "metadata": {
            "tags": []
          },
          "execution_count": 8
        },
        {
          "output_type": "display_data",
          "data": {
            "image/png": "[encoded data removed]",
            "text/plain": [
              "<Figure size 432x288 with 1 Axes>"
            ]
          },
          "metadata": {
            "tags": [],
            "needs_background": "light"
          }
        }
      ]
    },
    {
      "cell_type": "markdown",
      "metadata": {
        "id": "Q____nHqGG0V"
      },
      "source": [
        "***Analysis Cell:***\n",
        "\n",
        "Based on output obtained from the frequency distribution of destination column below are the inferences.\n",
        "\n",
        "1> Around 50% distribution is of No Urgency.\n",
        "2> The attribute gives location where user is to head after using the coupon. aboves stats do not make much impact and thus this attribute will like be removed from final set of attributes."
      ]
    },
    {
      "cell_type": "code",
      "metadata": {
        "colab": {
          "base_uri": "https://localhost:8080/",
          "height": 435
        },
        "id": "_8CVqdOoGooj",
        "outputId": "c2f6557d-fde6-49bd-bbb4-aa13ffd0cd2e"
      },
      "source": [
        "passngr_data = couponData.groupby('passanger').agg(passenger_cnt=('passanger',np.count_nonzero))\n",
        "passngr_data['total_count'] = len(couponData.index)\n",
        "passngr_data['percent'] = passngr_data['passenger_cnt']/passngr_data['total_count']*100\n",
        "# dest_data.loc['Total']= dest_data.sum()\n",
        "print(passngr_data)\n",
        "passngr_data.plot(kind='bar')"
      ],
      "execution_count": 9,
      "outputs": [
        {
          "output_type": "stream",
          "text": [
            "           passenger_cnt  total_count    percent\n",
            "passanger                                       \n",
            "Alone               5802        10147  57.179462\n",
            "Friend(s)           2676        10147  26.372327\n",
            "Kid(s)               814        10147   8.022075\n",
            "Partner              855        10147   8.426136\n"
          ],
          "name": "stdout"
        },
        {
          "output_type": "execute_result",
          "data": {
            "text/plain": [
              "<matplotlib.axes._subplots.AxesSubplot at 0x7f7fb3681c50>"
            ]
          },
          "metadata": {
            "tags": []
          },
          "execution_count": 9
        },
        {
          "output_type": "display_data",
          "data": {
            "image/png": "[encoded data removed]",
            "text/plain": [
              "<Figure size 432x288 with 1 Axes>"
            ]
          },
          "metadata": {
            "tags": [],
            "needs_background": "light"
          }
        }
      ]
    },
    {
      "cell_type": "markdown",
      "metadata": {
        "id": "P8AS0Vy4HoCW"
      },
      "source": [
        "***Analysis Cell:***\n",
        "\n",
        "Based on output obtained from the frequency distribution of passanger column below are the inferences.\n",
        "\n",
        "1> Around 57% distribution is of Alone.\n",
        "2> It seems more likely that if the person is alone he/she is more likely to use the coupon."
      ]
    },
    {
      "cell_type": "code",
      "metadata": {
        "colab": {
          "base_uri": "https://localhost:8080/",
          "height": 467
        },
        "id": "Xb4OmuSTHnni",
        "outputId": "4eb92ee4-98d9-4eab-ec2a-532892c2ed6c"
      },
      "source": [
        "wthr_data = couponData.groupby(['weather','temperature']).agg(weather_cnt=('weather',np.count_nonzero))\n",
        "wthr_data['total_count'] = len(couponData.index)\n",
        "wthr_data['percent'] = wthr_data['weather_cnt']/wthr_data['total_count']*100\n",
        "# dest_data.loc['Total']= dest_data.sum()\n",
        "print(wthr_data)\n",
        "wthr_data.plot(kind='bar')"
      ],
      "execution_count": 10,
      "outputs": [
        {
          "output_type": "stream",
          "text": [
            "                     weather_cnt  total_count    percent\n",
            "weather temperature                                     \n",
            "Rainy   55                   990        10147   9.756578\n",
            "Snowy   30                  1142        10147  11.254558\n",
            "Sunny   30                   744        10147   7.332216\n",
            "        55                  2068        10147  20.380408\n",
            "        80                  5203        10147  51.276239\n"
          ],
          "name": "stdout"
        },
        {
          "output_type": "execute_result",
          "data": {
            "text/plain": [
              "<matplotlib.axes._subplots.AxesSubplot at 0x7f7fb0ab5690>"
            ]
          },
          "metadata": {
            "tags": []
          },
          "execution_count": 10
        },
        {
          "output_type": "display_data",
          "data": {
            "image/png": "[encoded data removed]",
            "text/plain": [
              "<Figure size 432x288 with 1 Axes>"
            ]
          },
          "metadata": {
            "tags": [],
            "needs_background": "light"
          }
        }
      ]
    },
    {
      "cell_type": "markdown",
      "metadata": {
        "id": "hbHcKjOHKKjw"
      },
      "source": [
        "***Analysis Cell:***\n",
        "\n",
        "Based on output obtained from the frequency distribution of weather and temperature column below are the inferences.\n",
        "\n",
        "1> Around 51% distribution is of Sunny 80 temp.\n",
        "2> It seems more likely that if the peopleare more likely to use the coupon on sunnay days during the day time when the temperatures are on warmer side.\n",
        "3> also overall in sunny weather irrespective of time of day and temperature their is 78% chance of the coupon being used."
      ]
    },
    {
      "cell_type": "code",
      "metadata": {
        "colab": {
          "base_uri": "https://localhost:8080/",
          "height": 436
        },
        "id": "g1qZiavMKiev",
        "outputId": "856b86c8-eaf6-4a42-c691-0d043334a4a5"
      },
      "source": [
        "time_data = couponData.groupby('time').agg(time_cnt=('time',np.count_nonzero))\n",
        "time_data['total_count'] = len(couponData.index)\n",
        "time_data['percent'] = time_data['time_cnt']/time_data['total_count']*100\n",
        "# dest_data.loc['Total']= dest_data.sum()\n",
        "print(time_data)\n",
        "time_data.plot(kind='bar')"
      ],
      "execution_count": 11,
      "outputs": [
        {
          "output_type": "stream",
          "text": [
            "      time_cnt  total_count    percent\n",
            "time                                  \n",
            "10AM      1833        10147  18.064453\n",
            "10PM      1592        10147  15.689366\n",
            "2PM       1616        10147  15.925889\n",
            "6PM       2576        10147  25.386814\n",
            "7AM       2530        10147  24.933478\n"
          ],
          "name": "stdout"
        },
        {
          "output_type": "execute_result",
          "data": {
            "text/plain": [
              "<matplotlib.axes._subplots.AxesSubplot at 0x7f7fb0a339d0>"
            ]
          },
          "metadata": {
            "tags": []
          },
          "execution_count": 11
        },
        {
          "output_type": "display_data",
          "data": {
            "image/png": "[encoded data removed]",
            "text/plain": [
              "<Figure size 432x288 with 1 Axes>"
            ]
          },
          "metadata": {
            "tags": [],
            "needs_background": "light"
          }
        }
      ]
    },
    {
      "cell_type": "markdown",
      "metadata": {
        "id": "hOms79kNLPQ7"
      },
      "source": [
        "***Analysis Cell:***\n",
        "\n",
        "Based on output obtained from the frequency distribution of time column below are the inferences.\n",
        "\n",
        "1> ditribution in this column is quite even.\n",
        "2> significance of this column is still aquestion."
      ]
    },
    {
      "cell_type": "code",
      "metadata": {
        "colab": {
          "base_uri": "https://localhost:8080/",
          "height": 520
        },
        "id": "WdXNbfXKLbCI",
        "outputId": "b2cdd98d-9124-451c-d493-d1cf39007cd0"
      },
      "source": [
        "coupon_data = couponData.groupby('coupon').agg(coupon_cnt=('coupon',np.count_nonzero))\n",
        "coupon_data['total_count'] = len(couponData.index)\n",
        "coupon_data['percent'] = coupon_data['coupon_cnt']/coupon_data['total_count']*100\n",
        "# dest_data.loc['Total']= dest_data.sum()\n",
        "print(coupon_data)\n",
        "coupon_data.plot(kind='bar')"
      ],
      "execution_count": 12,
      "outputs": [
        {
          "output_type": "stream",
          "text": [
            "                       coupon_cnt  total_count    percent\n",
            "coupon                                                   \n",
            "Bar                          1623        10147  15.994875\n",
            "Carry out & Take away        1923        10147  18.951414\n",
            "Coffee House                 3191        10147  31.447719\n",
            "Restaurant(20-50)            1177        10147  11.599488\n",
            "Restaurant(<20)              2233        10147  22.006504\n"
          ],
          "name": "stdout"
        },
        {
          "output_type": "execute_result",
          "data": {
            "text/plain": [
              "<matplotlib.axes._subplots.AxesSubplot at 0x7f7fb0985b50>"
            ]
          },
          "metadata": {
            "tags": []
          },
          "execution_count": 12
        },
        {
          "output_type": "display_data",
          "data": {
            "image/png": "[encoded data removed]",
            "text/plain": [
              "<Figure size 432x288 with 1 Axes>"
            ]
          },
          "metadata": {
            "tags": [],
            "needs_background": "light"
          }
        }
      ]
    },
    {
      "cell_type": "markdown",
      "metadata": {
        "id": "l7h83N14L6Dr"
      },
      "source": [
        "***Analysis Cell:***\n",
        "\n",
        "Based on output obtained from the frequency distribution of coupon column below are the inferences.\n",
        "\n",
        "1> ditribution in this column can be seen to be quite well distributed but still it can observed that coupons solde a coffee shos are more likely to be used."
      ]
    },
    {
      "cell_type": "code",
      "metadata": {
        "colab": {
          "base_uri": "https://localhost:8080/",
          "height": 392
        },
        "id": "dJADI8g-MLg7",
        "outputId": "d8621c4e-f441-4999-a2ab-0836d70796ee"
      },
      "source": [
        "gender_data = couponData.groupby('gender').agg(gender_cnt=('gender',np.count_nonzero))\n",
        "gender_data['total_count'] = len(couponData.index)\n",
        "gender_data['percent'] = gender_data['gender_cnt']/gender_data['total_count']*100\n",
        "# dest_data.loc['Total']= dest_data.sum()\n",
        "print(gender_data)\n",
        "gender_data.plot(kind='bar')"
      ],
      "execution_count": 13,
      "outputs": [
        {
          "output_type": "stream",
          "text": [
            "        gender_cnt  total_count    percent\n",
            "gender                                    \n",
            "Female        5204        10147  51.286094\n",
            "Male          4943        10147  48.713906\n"
          ],
          "name": "stdout"
        },
        {
          "output_type": "execute_result",
          "data": {
            "text/plain": [
              "<matplotlib.axes._subplots.AxesSubplot at 0x7f7fb0916c10>"
            ]
          },
          "metadata": {
            "tags": []
          },
          "execution_count": 13
        },
        {
          "output_type": "display_data",
          "data": {
            "image/png": "[encoded data removed]",
            "text/plain": [
              "<Figure size 432x288 with 1 Axes>"
            ]
          },
          "metadata": {
            "tags": [],
            "needs_background": "light"
          }
        }
      ]
    },
    {
      "cell_type": "markdown",
      "metadata": {
        "id": "JNXolNNJMgZV"
      },
      "source": [
        "***Analysis Cell:***\n",
        "\n",
        "Based on output obtained from the frequency distribution of gender column below are the inferences.\n",
        "\n",
        "1> ditribution in this column very evenly distributes thus we can say that gender alone does not make a significant impact on the target variable."
      ]
    },
    {
      "cell_type": "code",
      "metadata": {
        "colab": {
          "base_uri": "https://localhost:8080/",
          "height": 487
        },
        "id": "I8kQ81ScM4uh",
        "outputId": "24748d49-0f3b-4f96-c998-9f6c7a57a16b"
      },
      "source": [
        "age_data = couponData.groupby('age_category').agg(age_cnt=('age_category',np.count_nonzero))\n",
        "age_data['total_count'] = len(couponData.index)\n",
        "age_data['percent'] = age_data['age_cnt']/age_data['total_count']*100\n",
        "# dest_data.loc['Total']= dest_data.sum()\n",
        "print(age_data)\n",
        "age_data.plot(kind='bar')"
      ],
      "execution_count": 14,
      "outputs": [
        {
          "output_type": "stream",
          "text": [
            "               age_cnt  total_count    percent\n",
            "age_category                                  \n",
            "50plus            1431        10147  14.102690\n",
            "below21           2565        10147  25.278407\n",
            "between21to30     2033        10147  20.035478\n",
            "between31to40     2701        10147  26.618705\n",
            "between41to50     1417        10147  13.964719\n"
          ],
          "name": "stdout"
        },
        {
          "output_type": "execute_result",
          "data": {
            "text/plain": [
              "<matplotlib.axes._subplots.AxesSubplot at 0x7f7fb08319d0>"
            ]
          },
          "metadata": {
            "tags": []
          },
          "execution_count": 14
        },
        {
          "output_type": "display_data",
          "data": {
            "image/png": "[encoded data removed]",
            "text/plain": [
              "<Figure size 432x288 with 1 Axes>"
            ]
          },
          "metadata": {
            "tags": [],
            "needs_background": "light"
          }
        }
      ]
    },
    {
      "cell_type": "markdown",
      "metadata": {
        "id": "LoDfAxDINuBX"
      },
      "source": [
        "***Analysis Cell:***\n",
        "\n",
        "Based on output obtained from the frequency distribution of age column below are the inferences.\n",
        "\n",
        "1> based onabove age buckets it seems data is quite evenly distributes. below21 and 50plus bucts are natuaral while others were derived. if we consider 21 to 50 as on single bucket the distribution is around 60% of people within 21 to 50 years of age are most likely to use the coupons."
      ]
    },
    {
      "cell_type": "code",
      "metadata": {
        "colab": {
          "base_uri": "https://localhost:8080/",
          "height": 501
        },
        "id": "KkZKcBSyObFS",
        "outputId": "b02c96b3-b8ad-45ac-f333-4e022f0f6633"
      },
      "source": [
        "status_data = couponData.groupby('maritalStatus').agg(status_cnt=('maritalStatus',np.count_nonzero))\n",
        "status_data['total_count'] = len(couponData.index)\n",
        "status_data['percent'] = status_data['status_cnt']/status_data['total_count']*100\n",
        "# dest_data.loc['Total']= dest_data.sum()\n",
        "print(status_data)\n",
        "status_data.plot(kind='bar')"
      ],
      "execution_count": 15,
      "outputs": [
        {
          "output_type": "stream",
          "text": [
            "                   status_cnt  total_count    percent\n",
            "maritalStatus                                        \n",
            "Divorced                  417        10147   4.109589\n",
            "Married partner          4086        10147  40.268060\n",
            "Single                   3806        10147  37.508623\n",
            "Unmarried partner        1737        10147  17.118360\n",
            "Widowed                   101        10147   0.995368\n"
          ],
          "name": "stdout"
        },
        {
          "output_type": "execute_result",
          "data": {
            "text/plain": [
              "<matplotlib.axes._subplots.AxesSubplot at 0x7f7fb0823ad0>"
            ]
          },
          "metadata": {
            "tags": []
          },
          "execution_count": 15
        },
        {
          "output_type": "display_data",
          "data": {
            "image/png": "[encoded data removed]",
            "text/plain": [
              "<Figure size 432x288 with 1 Axes>"
            ]
          },
          "metadata": {
            "tags": [],
            "needs_background": "light"
          }
        }
      ]
    },
    {
      "cell_type": "markdown",
      "metadata": {
        "id": "JFIqLzwbPPnJ"
      },
      "source": [
        "***Analysis Cell:***\n",
        "\n",
        "Based on output obtained from the frequency distribution of maratialStatus column below are the inferences.\n",
        "\n",
        "1> based on above summary it seems that the maratial status had a variation which suggests that might have a role in the outcome for target variable.\n",
        "2> it seems 2 of the categories status is Married Partner and Single are more likely to use coupon along with unmarried partner."
      ]
    },
    {
      "cell_type": "code",
      "metadata": {
        "colab": {
          "base_uri": "https://localhost:8080/",
          "height": 364
        },
        "id": "SDLQrNscQhkd",
        "outputId": "c56d056f-4ff1-4f0b-ca6c-f4b48c4b7e2b"
      },
      "source": [
        "children_data = couponData.groupby('has_children').agg(children_cnt=('has_children',np.count_nonzero))\n",
        "children_data['total_count'] = len(couponData.index)\n",
        "children_data['percent'] = children_data['children_cnt']/children_data['total_count']*100\n",
        "# dest_data.loc['Total']= dest_data.sum()\n",
        "print(children_data)\n",
        "children_data.plot(kind='bar')"
      ],
      "execution_count": 16,
      "outputs": [
        {
          "output_type": "stream",
          "text": [
            "              children_cnt  total_count    percent\n",
            "has_children                                      \n",
            "0                        0        10147   0.000000\n",
            "1                     4187        10147  41.263428\n"
          ],
          "name": "stdout"
        },
        {
          "output_type": "execute_result",
          "data": {
            "text/plain": [
              "<matplotlib.axes._subplots.AxesSubplot at 0x7f7fb06f2110>"
            ]
          },
          "metadata": {
            "tags": []
          },
          "execution_count": 16
        },
        {
          "output_type": "display_data",
          "data": {
            "image/png": "[encoded data removed]",
            "text/plain": [
              "<Figure size 432x288 with 1 Axes>"
            ]
          },
          "metadata": {
            "tags": [],
            "needs_background": "light"
          }
        }
      ]
    },
    {
      "cell_type": "markdown",
      "metadata": {
        "id": "HN-1ucv9RG70"
      },
      "source": [
        "***Analysis Cell:***\n",
        "\n",
        "Based on output obtained from the frequency distribution of has_children column below are the inferences.\n",
        "\n",
        "1> calculations are wrong due to count_nonzero but still it is pretty clear that child or no child the ditribution is quite even and this attribute may not have significant impact on final outcome."
      ]
    },
    {
      "cell_type": "code",
      "metadata": {
        "colab": {
          "base_uri": "https://localhost:8080/",
          "height": 626
        },
        "id": "G8gwKwdxRX8l",
        "outputId": "246a8c41-4e6f-4b99-b696-47657a117275"
      },
      "source": [
        "edu_data = couponData.groupby('education').agg(edu_cnt=('education',np.count_nonzero))\n",
        "edu_data['total_count'] = len(couponData.index)\n",
        "edu_data['percent'] = edu_data['edu_cnt']/edu_data['total_count']*100\n",
        "# dest_data.loc['Total']= dest_data.sum()\n",
        "print(edu_data)\n",
        "edu_data.plot(kind='bar')"
      ],
      "execution_count": 17,
      "outputs": [
        {
          "output_type": "stream",
          "text": [
            "                                        edu_cnt  total_count    percent\n",
            "education                                                              \n",
            "Associates degree                           924        10147   9.106140\n",
            "Bachelors degree                           3511        10147  34.601360\n",
            "Graduate degree (Masters or Doctorate)     1477        10147  14.556026\n",
            "High School Graduate                        708        10147   6.977432\n",
            "Some High School                             68        10147   0.670149\n",
            "Some college - no degree                   3459        10147  34.088893\n"
          ],
          "name": "stdout"
        },
        {
          "output_type": "execute_result",
          "data": {
            "text/plain": [
              "<matplotlib.axes._subplots.AxesSubplot at 0x7f7fb074dad0>"
            ]
          },
          "metadata": {
            "tags": []
          },
          "execution_count": 17
        },
        {
          "output_type": "display_data",
          "data": {
            "image/png": "[encoded data removed]",
            "text/plain": [
              "<Figure size 432x288 with 1 Axes>"
            ]
          },
          "metadata": {
            "tags": [],
            "needs_background": "light"
          }
        }
      ]
    },
    {
      "cell_type": "markdown",
      "metadata": {
        "id": "QXqY7FAHR-EZ"
      },
      "source": [
        "***Analysis Cell:***\n",
        "\n",
        "Based on output obtained from the frequency distribution of education column below are the inferences.\n",
        "\n",
        "1> calculations in this attribute given an indication that people with higher education degree or pursuing higher education are most likely to use the coupons."
      ]
    },
    {
      "cell_type": "code",
      "metadata": {
        "colab": {
          "base_uri": "https://localhost:8080/",
          "height": 977
        },
        "id": "ZxBbux0IR9v6",
        "outputId": "278d3092-1b13-4417-c44d-6f45075a0e46"
      },
      "source": [
        "occup_data = couponData.groupby('occupation').agg(occup_cnt=('occupation',np.count_nonzero))\n",
        "occup_data['total_count'] = len(couponData.index)\n",
        "occup_data['percent'] = occup_data['occup_cnt']/occup_data['total_count']*100\n",
        "# dest_data.loc['Total']= dest_data.sum()\n",
        "print(occup_data)\n",
        "occup_data.plot(kind='bar')"
      ],
      "execution_count": 18,
      "outputs": [
        {
          "output_type": "stream",
          "text": [
            "                                           occup_cnt  total_count    percent\n",
            "occupation                                                                  \n",
            "Architecture & Engineering                       139        10147   1.369863\n",
            "Arts Design Entertainment Sports & Media         526        10147   5.183798\n",
            "Building & Grounds Cleaning & Maintenance         37        10147   0.364640\n",
            "Business & Financial                             433        10147   4.267271\n",
            "Community & Social Services                      198        10147   1.951316\n",
            "Computer & Mathematical                         1111        10147  10.949049\n",
            "Construction & Extraction                        118        10147   1.162905\n",
            "Education&Training&Library                       753        10147   7.420913\n",
            "Farming Fishing & Forestry                        36        10147   0.354785\n",
            "Food Preparation & Serving Related               241        10147   2.375086\n",
            "Healthcare Practitioners & Technical             205        10147   2.020302\n",
            "Healthcare Support                               186        10147   1.833054\n",
            "Installation Maintenance & Repair                105        10147   1.034789\n",
            "Legal                                            179        10147   1.764068\n",
            "Life Physical Social Science                     140        10147   1.379718\n",
            "Management                                       665        10147   6.553661\n",
            "Office & Administrative Support                  517        10147   5.095102\n",
            "Personal Care & Service                          137        10147   1.350153\n",
            "Production Occupations                            89        10147   0.877107\n",
            "Protective Service                               135        10147   1.330442\n",
            "Retired                                          394        10147   3.882921\n",
            "Sales & Related                                  896        10147   8.830196\n",
            "Student                                         1245        10147  12.269636\n",
            "Transportation & Material Moving                 177        10147   1.744358\n",
            "Unemployed                                      1485        10147  14.634867\n"
          ],
          "name": "stdout"
        },
        {
          "output_type": "execute_result",
          "data": {
            "text/plain": [
              "<matplotlib.axes._subplots.AxesSubplot at 0x7f7fb0616210>"
            ]
          },
          "metadata": {
            "tags": []
          },
          "execution_count": 18
        },
        {
          "output_type": "display_data",
          "data": {
            "image/png": "[encoded data removed]",
            "text/plain": [
              "<Figure size 432x288 with 1 Axes>"
            ]
          },
          "metadata": {
            "tags": [],
            "needs_background": "light"
          }
        }
      ]
    },
    {
      "cell_type": "markdown",
      "metadata": {
        "id": "bp40JyaLSdXA"
      },
      "source": [
        "***Analysis Cell:***\n",
        "\n",
        "Based on output obtained from the frequency distribution of occupation column below are the inferences.\n",
        "\n",
        "1> calculations in this attribute are quite evenly distributed on lower side which give little to no sense on its impact on target or its significance.\n",
        "2> we can consolidate this categorical column further in to even higher level categories or on basis of distribution and use both set of consolidate heirarchial columns to analyse the distribution further."
      ]
    },
    {
      "cell_type": "code",
      "metadata": {
        "colab": {
          "base_uri": "https://localhost:8080/",
          "height": 566
        },
        "id": "2IRpBSJOS5KY",
        "outputId": "0790acc8-c163-4dc4-8303-8e577279ca2e"
      },
      "source": [
        "income_data = couponData.groupby('income').agg(income_cnt=('income',np.count_nonzero))\n",
        "income_data['total_count'] = len(couponData.index)\n",
        "income_data['percent'] = income_data['income_cnt']/income_data['total_count']*100\n",
        "# dest_data.loc['Total']= dest_data.sum()\n",
        "print(income_data)\n",
        "income_data.plot(kind='bar')"
      ],
      "execution_count": 19,
      "outputs": [
        {
          "output_type": "stream",
          "text": [
            "                  income_cnt  total_count    percent\n",
            "income                                              \n",
            "$100000 or More         1408        10147  13.876022\n",
            "$12500 - $24999         1464        10147  14.427910\n",
            "$25000 - $37499         1622        10147  15.985020\n",
            "$37500 - $49999         1444        10147  14.230807\n",
            "$50000 - $62499         1318        10147  12.989061\n",
            "$62500 - $74999          664        10147   6.543806\n",
            "$75000 - $87499          695        10147   6.849315\n",
            "$87500 - $99999          712        10147   7.016852\n",
            "Less than $12500         820        10147   8.081206\n"
          ],
          "name": "stdout"
        },
        {
          "output_type": "execute_result",
          "data": {
            "text/plain": [
              "<matplotlib.axes._subplots.AxesSubplot at 0x7f7fb1101950>"
            ]
          },
          "metadata": {
            "tags": []
          },
          "execution_count": 19
        },
        {
          "output_type": "display_data",
          "data": {
            "image/png": "[encoded data removed]",
            "text/plain": [
              "<Figure size 432x288 with 1 Axes>"
            ]
          },
          "metadata": {
            "tags": [],
            "needs_background": "light"
          }
        }
      ]
    },
    {
      "cell_type": "markdown",
      "metadata": {
        "id": "MRIaysOXTPg-"
      },
      "source": [
        "***Analysis Cell:***\n",
        "\n",
        "Based on output obtained from the frequency distribution of income column below are the inferences.\n",
        "\n",
        "1> calculations in this attribute are quite evenly distributed on lower side which give little to no sense on its impact on target or its significance."
      ]
    },
    {
      "cell_type": "code",
      "metadata": {
        "colab": {
          "base_uri": "https://localhost:8080/",
          "height": 437
        },
        "id": "lzbq4AzgTWl-",
        "outputId": "e9f402c8-6bf1-4cfd-af78-08efb11af18a"
      },
      "source": [
        "bar_data = couponData.groupby('Bar').agg(bar_cnt=('Bar',np.count_nonzero))\n",
        "bar_data['total_count'] = len(couponData.index)\n",
        "bar_data['percent'] = bar_data['bar_cnt']/bar_data['total_count']*100\n",
        "# dest_data.loc['Total']= dest_data.sum()\n",
        "print(bar_data)\n",
        "bar_data.plot(kind='bar')"
      ],
      "execution_count": 20,
      "outputs": [
        {
          "output_type": "stream",
          "text": [
            "       bar_cnt  total_count    percent\n",
            "Bar                                   \n",
            "1~3       1979        10147  19.503301\n",
            "4~8        859        10147   8.465556\n",
            "gt8        290        10147   2.857988\n",
            "less1     2781        10147  27.407115\n",
            "never     4150        10147  40.898788\n"
          ],
          "name": "stdout"
        },
        {
          "output_type": "execute_result",
          "data": {
            "text/plain": [
              "<matplotlib.axes._subplots.AxesSubplot at 0x7f7fb0301ed0>"
            ]
          },
          "metadata": {
            "tags": []
          },
          "execution_count": 20
        },
        {
          "output_type": "display_data",
          "data": {
            "image/png": "[encoded data removed]",
            "text/plain": [
              "<Figure size 432x288 with 1 Axes>"
            ]
          },
          "metadata": {
            "tags": [],
            "needs_background": "light"
          }
        }
      ]
    },
    {
      "cell_type": "markdown",
      "metadata": {
        "id": "yJUvB7KZTzq5"
      },
      "source": [
        "***Analysis Cell:***\n",
        "\n",
        "Based on output obtained from the frequency distribution of bar column below are the inferences.\n",
        "\n",
        "1> calculations in this attribute indicate that people who have never visited the bar are more likely to use the coupon."
      ]
    },
    {
      "cell_type": "code",
      "metadata": {
        "colab": {
          "base_uri": "https://localhost:8080/",
          "height": 437
        },
        "id": "veXKpo3tT8xs",
        "outputId": "7c6e9ab1-47c6-4738-90c4-911fd845b214"
      },
      "source": [
        "coffeHouse_data = couponData.groupby('CoffeeHouse').agg(coffeHouse_cnt=('CoffeeHouse',np.count_nonzero))\n",
        "coffeHouse_data['total_count'] = len(couponData.index)\n",
        "coffeHouse_data['percent'] = coffeHouse_data['coffeHouse_cnt']/coffeHouse_data['total_count']*100\n",
        "# dest_data.loc['Total']= dest_data.sum()\n",
        "print(coffeHouse_data)\n",
        "coffeHouse_data.plot(kind='bar')"
      ],
      "execution_count": 21,
      "outputs": [
        {
          "output_type": "stream",
          "text": [
            "             coffeHouse_cnt  total_count    percent\n",
            "CoffeeHouse                                        \n",
            "1~3                    2586        10147  25.485365\n",
            "4~8                    1423        10147  14.023849\n",
            "gt8                     895        10147   8.820341\n",
            "less1                  2696        10147  26.569429\n",
            "never                  2375        10147  23.405933\n"
          ],
          "name": "stdout"
        },
        {
          "output_type": "execute_result",
          "data": {
            "text/plain": [
              "<matplotlib.axes._subplots.AxesSubplot at 0x7f7fb02a4bd0>"
            ]
          },
          "metadata": {
            "tags": []
          },
          "execution_count": 21
        },
        {
          "output_type": "display_data",
          "data": {
            "image/png": "[encoded data removed]",
            "text/plain": [
              "<Figure size 432x288 with 1 Axes>"
            ]
          },
          "metadata": {
            "tags": [],
            "needs_background": "light"
          }
        }
      ]
    },
    {
      "cell_type": "markdown",
      "metadata": {
        "id": "fB3i4ztuUVyC"
      },
      "source": [
        "***Analysis Cell:***\n",
        "\n",
        "Based on output obtained from the frequency distribution of coffe_house column below are the inferences.\n",
        "\n",
        "1> calculations in this attribute indicate that people who have never visited the coffe_house have used the coupons 50% of the times. while ones visting less that 3 time further add 25% to the usage."
      ]
    },
    {
      "cell_type": "code",
      "metadata": {
        "colab": {
          "base_uri": "https://localhost:8080/",
          "height": 437
        },
        "id": "bd_a2dwVUoDB",
        "outputId": "8f9edbae-c828-4eaa-e8b6-fd55404ccd85"
      },
      "source": [
        "carryAway_data = couponData.groupby('CarryAway').agg(carryAway_cnt=('CarryAway',np.count_nonzero))\n",
        "carryAway_data['total_count'] = len(couponData.index)\n",
        "carryAway_data['percent'] = carryAway_data['carryAway_cnt']/carryAway_data['total_count']*100\n",
        "# dest_data.loc['Total']= dest_data.sum()\n",
        "print(carryAway_data)\n",
        "carryAway_data.plot(kind='bar')"
      ],
      "execution_count": 22,
      "outputs": [
        {
          "output_type": "stream",
          "text": [
            "           carryAway_cnt  total_count    percent\n",
            "CarryAway                                       \n",
            "1~3                 3741        10147  36.868040\n",
            "4~8                 3416        10147  33.665123\n",
            "gt8                 1263        10147  12.447029\n",
            "less1               1485        10147  14.634867\n",
            "never                120        10147   1.182616\n"
          ],
          "name": "stdout"
        },
        {
          "output_type": "execute_result",
          "data": {
            "text/plain": [
              "<matplotlib.axes._subplots.AxesSubplot at 0x7f7fb01bcb50>"
            ]
          },
          "metadata": {
            "tags": []
          },
          "execution_count": 22
        },
        {
          "output_type": "display_data",
          "data": {
            "image/png": "[encoded data removed]",
            "text/plain": [
              "<Figure size 432x288 with 1 Axes>"
            ]
          },
          "metadata": {
            "tags": [],
            "needs_background": "light"
          }
        }
      ]
    },
    {
      "cell_type": "markdown",
      "metadata": {
        "id": "Qia6PCG3UpbI"
      },
      "source": [
        "***Analysis Cell:***\n",
        "\n",
        "Based on output obtained from the frequency distribution of carryAway column below are the inferences.\n",
        "\n",
        "1> calculations in this attribute indicate that people who have often visted carry away or take aways tend to use the coupons very often around 80% plus."
      ]
    },
    {
      "cell_type": "code",
      "metadata": {
        "colab": {
          "base_uri": "https://localhost:8080/",
          "height": 437
        },
        "id": "kUMbjz9qVO3z",
        "outputId": "fe2407d5-83f4-4dc2-d6ed-c91b246b79b8"
      },
      "source": [
        "restLT20_data = couponData.groupby('RestaurantLessThan20').agg(restLT20_cnt=('RestaurantLessThan20',np.count_nonzero))\n",
        "restLT20_data['total_count'] = len(couponData.index)\n",
        "restLT20_data['percent'] = restLT20_data['restLT20_cnt']/restLT20_data['total_count']*100\n",
        "# dest_data.loc['Total']= dest_data.sum()\n",
        "print(restLT20_data)\n",
        "restLT20_data.plot(kind='bar')"
      ],
      "execution_count": 23,
      "outputs": [
        {
          "output_type": "stream",
          "text": [
            "                      restLT20_cnt  total_count    percent\n",
            "RestaurantLessThan20                                      \n",
            "1~3                           4296        10147  42.337637\n",
            "4~8                           2868        10147  28.264512\n",
            "gt8                           1025        10147  10.101508\n",
            "less1                         1688        10147  16.635459\n",
            "never                          173        10147   1.704937\n"
          ],
          "name": "stdout"
        },
        {
          "output_type": "execute_result",
          "data": {
            "text/plain": [
              "<matplotlib.axes._subplots.AxesSubplot at 0x7f7fb0155210>"
            ]
          },
          "metadata": {
            "tags": []
          },
          "execution_count": 23
        },
        {
          "output_type": "display_data",
          "data": {
            "image/png": "[encoded data removed]",
            "text/plain": [
              "<Figure size 432x288 with 1 Axes>"
            ]
          },
          "metadata": {
            "tags": [],
            "needs_background": "light"
          }
        }
      ]
    },
    {
      "cell_type": "markdown",
      "metadata": {
        "id": "iplLVFDHViOU"
      },
      "source": [
        "***Analysis Cell:***\n",
        "\n",
        "Based on output obtained from the frequency distribution of restaurent less than 20 column below are the inferences.\n",
        "\n",
        "1> calculations in this attribute indicate that people who have often visted restaurent wheer less than 20 anout coupons are distributed tend to use the coupons very often around 80% plus."
      ]
    },
    {
      "cell_type": "code",
      "metadata": {
        "colab": {
          "base_uri": "https://localhost:8080/",
          "height": 437
        },
        "id": "shx0DR6aV29l",
        "outputId": "f76f7e00-b6f2-46ba-ab27-f242e2a63bc0"
      },
      "source": [
        "rest20to50_data = couponData.groupby('Restaurant20To50').agg(rest20to50_cnt=('Restaurant20To50',np.count_nonzero))\n",
        "rest20to50_data['total_count'] = len(couponData.index)\n",
        "rest20to50_data['percent'] = rest20to50_data['rest20to50_cnt']/rest20to50_data['total_count']*100\n",
        "# dest_data.loc['Total']= dest_data.sum()\n",
        "print(rest20to50_data)\n",
        "rest20to50_data.plot(kind='bar')"
      ],
      "execution_count": 24,
      "outputs": [
        {
          "output_type": "stream",
          "text": [
            "                  rest20to50_cnt  total_count    percent\n",
            "Restaurant20To50                                        \n",
            "1~3                         2622        10147  25.840150\n",
            "4~8                          579        10147   5.706120\n",
            "gt8                          216        10147   2.128708\n",
            "less1                       4889        10147  48.181729\n",
            "never                       1693        10147  16.684734\n"
          ],
          "name": "stdout"
        },
        {
          "output_type": "execute_result",
          "data": {
            "text/plain": [
              "<matplotlib.axes._subplots.AxesSubplot at 0x7f7fb7f09690>"
            ]
          },
          "metadata": {
            "tags": []
          },
          "execution_count": 24
        },
        {
          "output_type": "display_data",
          "data": {
            "image/png": "[encoded data removed]",
            "text/plain": [
              "<Figure size 432x288 with 1 Axes>"
            ]
          },
          "metadata": {
            "tags": [],
            "needs_background": "light"
          }
        }
      ]
    },
    {
      "cell_type": "markdown",
      "metadata": {
        "id": "QxJ5sd48Wa9m"
      },
      "source": [
        "***Analysis Cell:***\n",
        "\n",
        "Based on output obtained from the frequency distribution of restaurent 20 to 50 column below are the inferences.\n",
        "\n",
        "1> calculations in this attribute indicate that people who have often visted restaurent where 20 to 50 amout coupons are distributed tend not to use the coupons very often around 60% plus."
      ]
    },
    {
      "cell_type": "code",
      "metadata": {
        "colab": {
          "base_uri": "https://localhost:8080/",
          "height": 428
        },
        "id": "5FVfx37GWn1L",
        "outputId": "ed24939c-3799-4d52-def8-e59c95ffa84c"
      },
      "source": [
        "GEQ_data = couponData.groupby('GEQ_Category').agg(GEQ_cnt=('GEQ_Category',np.count_nonzero))\n",
        "GEQ_data['total_count'] = len(couponData.index)\n",
        "GEQ_data['percent'] = GEQ_data['GEQ_cnt']/GEQ_data['total_count']*100\n",
        "# dest_data.loc['Total']= dest_data.sum()\n",
        "print(GEQ_data)\n",
        "GEQ_data.plot(kind='bar')"
      ],
      "execution_count": 25,
      "outputs": [
        {
          "output_type": "stream",
          "text": [
            "              GEQ_cnt  total_count    percent\n",
            "GEQ_Category                                 \n",
            "GEQ15min         4497        10147  44.318518\n",
            "GEQ25min         1216        10147  11.983838\n",
            "GEQ5min          4434        10147  43.697645\n"
          ],
          "name": "stdout"
        },
        {
          "output_type": "execute_result",
          "data": {
            "text/plain": [
              "<matplotlib.axes._subplots.AxesSubplot at 0x7f7fb00009d0>"
            ]
          },
          "metadata": {
            "tags": []
          },
          "execution_count": 25
        },
        {
          "output_type": "display_data",
          "data": {
            "image/png": "[encoded data removed]",
            "text/plain": [
              "<Figure size 432x288 with 1 Axes>"
            ]
          },
          "metadata": {
            "tags": [],
            "needs_background": "light"
          }
        }
      ]
    },
    {
      "cell_type": "markdown",
      "metadata": {
        "id": "jl9EoED3XEX7"
      },
      "source": [
        "***Analysis Cell:***\n",
        "\n",
        "Based on output obtained from the frequency distribution of GEQ Category column below are the inferences.\n",
        "\n",
        "1> calculations in this attribute indicate that people tend to use the coupons very often around 90% plus times if the distance to mall is less than 15 mins of drive.\n",
        "2> also this column should be checked in association with direction column to have a better understanding of results or impact on target."
      ]
    },
    {
      "cell_type": "markdown",
      "metadata": {
        "id": "URfx7Y9sUpX2"
      },
      "source": [
        "`"
      ]
    },
    {
      "cell_type": "code",
      "metadata": {
        "colab": {
          "base_uri": "https://localhost:8080/",
          "height": 495
        },
        "id": "3aBVv7MXXgsf",
        "outputId": "d6a3116a-f278-4cbe-db75-e49365147988"
      },
      "source": [
        "GEQdirec_data = couponData.groupby(['GEQ_Category','direction_same','direction_opp']).agg(GEQdirec_cnt=('GEQ_Category',np.count_nonzero))\n",
        "GEQdirec_data['total_count'] = len(couponData.index)\n",
        "GEQdirec_data['percent'] = GEQdirec_data['GEQdirec_cnt']/GEQdirec_data['total_count']*100\n",
        "# dest_data.loc['Total']= dest_data.sum()\n",
        "print(GEQdirec_data)\n",
        "GEQdirec_data.plot(kind='bar')"
      ],
      "execution_count": 26,
      "outputs": [
        {
          "output_type": "stream",
          "text": [
            "                                           GEQdirec_cnt  total_count    percent\n",
            "GEQ_Category direction_same direction_opp                                      \n",
            "GEQ15min     0              1                      3903        10147  38.464571\n",
            "             1              0                       594        10147   5.853947\n",
            "GEQ25min     0              1                      1216        10147  11.983838\n",
            "GEQ5min      0              1                      2875        10147  28.333498\n",
            "             1              0                      1559        10147  15.364147\n"
          ],
          "name": "stdout"
        },
        {
          "output_type": "execute_result",
          "data": {
            "text/plain": [
              "<matplotlib.axes._subplots.AxesSubplot at 0x7f7faff934d0>"
            ]
          },
          "metadata": {
            "tags": []
          },
          "execution_count": 26
        },
        {
          "output_type": "display_data",
          "data": {
            "image/png": "[encoded data removed]",
            "text/plain": [
              "<Figure size 432x288 with 1 Axes>"
            ]
          },
          "metadata": {
            "tags": [],
            "needs_background": "light"
          }
        }
      ]
    },
    {
      "cell_type": "markdown",
      "metadata": {
        "id": "zvWAtcdSYYGY"
      },
      "source": [
        "***Analysis Cell:***\n",
        "\n",
        "Based on output obtained from the frequency distribution of GEQ Category and direction column below are the inferences.\n",
        "\n",
        "1> calculations in this attribute indicate that people tend to use the coupons very often around 90% plus times if the distance to mall is less than 15 mins of drive and it does not matter if it is in same or opposite direction."
      ]
    },
    {
      "cell_type": "markdown",
      "metadata": {
        "id": "Cuh24factGL3"
      },
      "source": [
        "***Analysing of important features using the chi squared test***"
      ]
    },
    {
      "cell_type": "code",
      "metadata": {
        "id": "PpnTZQCstE_E"
      },
      "source": [
        "# example of chi squared feature selection for categorical data\n",
        "from pandas import read_csv\n",
        "from sklearn.model_selection import train_test_split\n",
        "from sklearn.preprocessing import LabelEncoder\n",
        "from sklearn.preprocessing import OrdinalEncoder\n",
        "from sklearn.feature_selection import SelectKBest, mutual_info_classif\n",
        "from sklearn.feature_selection import chi2\n",
        "from matplotlib import pyplot\n",
        "\n",
        "# changed data selction columns\n",
        "# couponData_og = couponData[['destination','passanger','weather','temperature','time','coupon','expiration','gender','age_category','maritalStatus','has_children','education','occupation','income','Bar','CoffeeHouse','CarryAway','RestaurantLessThan20','Restaurant20To50','toCoupon_GEQ5min','toCoupon_GEQ15min','toCoupon_GEQ25min','direction_same','direction_opp','Y']]\n",
        "couponData_og = couponData[['education','RestaurantLessThan20','CarryAway','temperature', 'age_category', 'income', 'CoffeeHouse','occupation','time','coupon','Bar','direction_same','expiration','passanger','Restaurant20To50','GEQ_Category','Y']]\n",
        "couponData_final = couponData[['destination','passanger','weather','temperature','time','coupon','expiration','gender','age_category','maritalStatus','has_children','education','occupation','income','Bar','CoffeeHouse','CarryAway','RestaurantLessThan20','Restaurant20To50','GEQ_Category','direction_same','direction_opp','Y']]"
      ],
      "execution_count": 27,
      "outputs": []
    },
    {
      "cell_type": "markdown",
      "metadata": {
        "id": "KU8nAZJGxTrE"
      },
      "source": [
        "***Analysing features on original dataset. method to get X and y Split***"
      ]
    },
    {
      "cell_type": "code",
      "metadata": {
        "id": "ZRt1dvF4xaVx"
      },
      "source": [
        "# load the dataset\n",
        "def load_dataset(data):\n",
        "\t# load the dataset as a pandas DataFrame\n",
        "\t# data = read_csv(filename, header=None)\n",
        "\t# retrieve numpy array\n",
        "\tdataset = data.values\n",
        "\t# split into input (X) and output (y) variables\n",
        "\tX = dataset[:, :-1]\n",
        "\ty = dataset[:,-1]\n",
        "\t# format all fields as string\n",
        "\tX = X.astype(str)\n",
        "\treturn X, y"
      ],
      "execution_count": 28,
      "outputs": []
    },
    {
      "cell_type": "code",
      "metadata": {
        "id": "V9BzVkGBx5_n"
      },
      "source": [
        "# prepare input data\n",
        "def prepare_inputs(X_train, X_test):\n",
        "\toe = OrdinalEncoder()\n",
        "\toe.fit(X_train)\n",
        "\tX_train_enc = oe.transform(X_train)\n",
        "\tX_test_enc = oe.transform(X_test)\n",
        "\treturn X_train_enc, X_test_enc\n",
        "\n",
        "# prepare target\n",
        "def prepare_targets(y_train, y_test):\n",
        "\tle = LabelEncoder()\n",
        "\tle.fit(y_train)\n",
        "\ty_train_enc = le.transform(y_train)\n",
        "\ty_test_enc = le.transform(y_test)\n",
        "\treturn y_train_enc, y_test_enc"
      ],
      "execution_count": 29,
      "outputs": []
    },
    {
      "cell_type": "code",
      "metadata": {
        "id": "DiNEPzXRyVYd"
      },
      "source": [
        "# feature selection\n",
        "def select_features_chi(X_train, y_train, X_test):\n",
        "\tfs = SelectKBest(score_func=chi2, k='all')\n",
        "\tfs.fit(X_train, y_train)\n",
        "\tX_train_fs = fs.transform(X_train)\n",
        "\tX_test_fs = fs.transform(X_test)\n",
        "\treturn X_train_fs, X_test_fs, fs\n",
        "\n",
        "def select_features_mutual(X_train, y_train, X_test):\n",
        "\tfs = SelectKBest(score_func=mutual_info_classif, k='all')\n",
        "\tfs.fit(X_train, y_train)\n",
        "\tX_train_fs = fs.transform(X_train)\n",
        "\tX_test_fs = fs.transform(X_test)\n",
        "\treturn X_train_fs, X_test_fs, fs"
      ],
      "execution_count": 30,
      "outputs": []
    },
    {
      "cell_type": "code",
      "metadata": {
        "colab": {
          "base_uri": "https://localhost:8080/",
          "height": 543
        },
        "id": "nV1meqqtybgx",
        "outputId": "6766765a-c358-452c-eefd-df433e5396c6"
      },
      "source": [
        "# load the dataset\n",
        "X, y = load_dataset(couponData_og)\n",
        "# split into train and test sets\n",
        "X_train, X_test, y_train, y_test = train_test_split(X, y, test_size=0.33, random_state=1)\n",
        "# prepare input data\n",
        "X_train_enc, X_test_enc = prepare_inputs(X_train, X_test)\n",
        "# prepare output data\n",
        "y_train_enc, y_test_enc = prepare_targets(y_train, y_test)\n",
        "# feature selection\n",
        "X_train_fs, X_test_fs, fs = select_features_chi(X_train_enc, y_train_enc, X_test_enc)\n",
        "# what are scores for the features\n",
        "for i in range(len(fs.scores_)):\n",
        "\tprint('Feature %d: %f' % (i, fs.scores_[i]))\n",
        "# plot the scores\n",
        "pyplot.bar([i for i in range(len(fs.scores_))], fs.scores_)\n",
        "pyplot.show()"
      ],
      "execution_count": 31,
      "outputs": [
        {
          "output_type": "stream",
          "text": [
            "Feature 0: 26.282146\n",
            "Feature 1: 0.297748\n",
            "Feature 2: 17.772863\n",
            "Feature 3: 9.534253\n",
            "Feature 4: 0.168131\n",
            "Feature 5: 20.100514\n",
            "Feature 6: 243.558844\n",
            "Feature 7: 0.410822\n",
            "Feature 8: 21.580605\n",
            "Feature 9: 46.082527\n",
            "Feature 10: 62.269416\n",
            "Feature 11: 0.764126\n",
            "Feature 12: 68.350502\n",
            "Feature 13: 30.682678\n",
            "Feature 14: 23.122772\n",
            "Feature 15: 11.340383\n"
          ],
          "name": "stdout"
        },
        {
          "output_type": "display_data",
          "data": {
            "image/png": "[encoded data removed]",
            "text/plain": [
              "<Figure size 432x288 with 1 Axes>"
            ]
          },
          "metadata": {
            "tags": [],
            "needs_background": "light"
          }
        }
      ]
    },
    {
      "cell_type": "markdown",
      "metadata": {
        "id": "PSaWsuSvzE_k"
      },
      "source": [
        "***Analysis Cell:***\n",
        "\n",
        "Based on set of outcomes from chi square test to identify best set of features.\n",
        "\n",
        "considering minimum 20% as threshold below features seem to be important features.\n",
        "\n",
        "feature_name-->feature_no-->feature_score\n",
        "1> passanger-->Feature 1-->30.682678\n",
        "2> time-->Feature 4-->21.580605\n",
        "3> coupon-->Feature 5-->46.082527\n",
        "4> expiration-->Feature 6-->68.350502\n",
        "5> education-->Feature 11-->26.282146\n",
        "6> income-->Feature 13-->20.100514\n",
        "7> Bar-->Feature 14-->62.269416\n",
        "8> CoffeeHouse-->Feature 15-->243.558844\n",
        "9> Restaurant20To50-->Feature 18-->23.122772\n",
        "10> toCoupon_GEQ25min-->Feature 21-->58.631971"
      ]
    },
    {
      "cell_type": "markdown",
      "metadata": {
        "id": "y_i60-uK2PbB"
      },
      "source": [
        "***Analysing of important features using the mutual info classification test***"
      ]
    },
    {
      "cell_type": "code",
      "metadata": {
        "colab": {
          "base_uri": "https://localhost:8080/",
          "height": 543
        },
        "id": "oLO7EMJ52czl",
        "outputId": "9a983a24-deef-416e-eee7-269076dfa876"
      },
      "source": [
        "# load the dataset\n",
        "X, y = load_dataset(couponData_og)\n",
        "# split into train and test sets\n",
        "X_train, X_test, y_train, y_test = train_test_split(X, y, test_size=0.33, random_state=1)\n",
        "# prepare input data\n",
        "X_train_enc, X_test_enc = prepare_inputs(X_train, X_test)\n",
        "# prepare output data\n",
        "y_train_enc, y_test_enc = prepare_targets(y_train, y_test)\n",
        "# feature selection\n",
        "X_train_fs, X_test_fs, fs = select_features_mutual(X_train_enc, y_train_enc, X_test_enc)\n",
        "# what are scores for the features\n",
        "for i in range(len(fs.scores_)):\n",
        "\tprint('Feature %d: %f' % (i, fs.scores_[i]))\n",
        "\n",
        "# plot the scores\n",
        "pyplot.bar([i for i in range(len(fs.scores_))], fs.scores_)\n",
        "pyplot.show()"
      ],
      "execution_count": 32,
      "outputs": [
        {
          "output_type": "stream",
          "text": [
            "Feature 0: 0.001584\n",
            "Feature 1: 0.006486\n",
            "Feature 2: 0.003402\n",
            "Feature 3: 0.009767\n",
            "Feature 4: 0.007479\n",
            "Feature 5: 0.002487\n",
            "Feature 6: 0.013209\n",
            "Feature 7: 0.001320\n",
            "Feature 8: 0.001299\n",
            "Feature 9: 0.022441\n",
            "Feature 10: 0.000000\n",
            "Feature 11: 0.000000\n",
            "Feature 12: 0.014453\n",
            "Feature 13: 0.004306\n",
            "Feature 14: 0.006600\n",
            "Feature 15: 0.003987\n"
          ],
          "name": "stdout"
        },
        {
          "output_type": "display_data",
          "data": {
            "image/png": "[encoded data removed]",
            "text/plain": [
              "<Figure size 432x288 with 1 Axes>"
            ]
          },
          "metadata": {
            "tags": [],
            "needs_background": "light"
          }
        }
      ]
    },
    {
      "cell_type": "markdown",
      "metadata": {
        "id": "GTT3paPj4o6U"
      },
      "source": [
        "***Analysis Cell:***\n",
        "\n",
        "Based on set of outcomes from chi square test to identify best set of features.\n",
        "\n",
        "considering minimum 20% as threshold below features seem to be important features.\n",
        "\n",
        "feature_name-->feature_no-->feature_score\n",
        "1> passanger-->Feature 1-->0.007508\n",
        "2> time-->Feature 4-->0.016845\n",
        "3> coupon-->Feature 5-->0.034983\n",
        "4> occupation-->Feature 12-->0.008199\n",
        "5> income-->Feature 13-->0.017166\n",
        "6> Bar-->Feature 14-->0.012343\n",
        "7> CoffeeHouse-->Feature 15-->0.013105\n",
        "8> CarryAway-->Feature 16-->0.009283\n",
        "9> RestaurantLessThan20-->Feature 17-->0.005441\n",
        "10> Restaurant20To50-->Feature 18-->0.007385\n",
        "11> direction_same-->Feature 22-->0.006377"
      ]
    },
    {
      "cell_type": "markdown",
      "metadata": {
        "id": "GfIyjN7kC4-P"
      },
      "source": [
        "***Implementing Random Forest algorithm on original dataset to get first cut.***"
      ]
    },
    {
      "cell_type": "code",
      "metadata": {
        "id": "6j68pJPZDTmd"
      },
      "source": [
        "import numpy as np\n",
        "import pandas as pd\n",
        "from sklearn.metrics import accuracy_score\n",
        "from sklearn.model_selection import train_test_split\n",
        "from sklearn.model_selection import cross_val_score, GridSearchCV\n",
        "from sklearn.linear_model import LogisticRegression\n",
        "from sklearn.tree import DecisionTreeClassifier\n",
        "from sklearn.ensemble import RandomForestClassifier\n",
        "from sklearn.preprocessing import LabelEncoder\n",
        "from sklearn.metrics import accuracy_score, confusion_matrix, classification_report\n",
        "from sklearn.ensemble import RandomForestClassifier,AdaBoostClassifier,GradientBoostingClassifier\n",
        "from sklearn.ensemble import StackingClassifier, RandomForestRegressor"
      ],
      "execution_count": 33,
      "outputs": []
    },
    {
      "cell_type": "code",
      "metadata": {
        "colab": {
          "base_uri": "https://localhost:8080/",
          "height": 1000
        },
        "id": "3TKhANOhDaO1",
        "outputId": "ee964690-d76e-4207-d7d7-42561a0fbd8d"
      },
      "source": [
        "customer_id_train = couponData['customer_id']\n",
        "couponData_ogrf = couponData[['destination','passanger','weather','temperature','time','coupon','expiration','gender','age_category','maritalStatus','has_children','education','occupation','income','Bar','CoffeeHouse','CarryAway','RestaurantLessThan20','Restaurant20To50','toCoupon_GEQ5min','toCoupon_GEQ15min','toCoupon_GEQ25min','direction_same','direction_opp','Y']]\n",
        "couponData_ogrf['Bar'] = couponData_ogrf['Bar'].fillna(\"never\")\n",
        "couponData_ogrf['CoffeeHouse'] = couponData_ogrf['CoffeeHouse'].fillna(\"less1\")\n",
        "couponData_ogrf['CarryAway'] = couponData_ogrf['CarryAway'].fillna(\"4~8\")\n",
        "couponData_ogrf['RestaurantLessThan20'] = couponData_ogrf['RestaurantLessThan20'].fillna(\"1~3\")\n",
        "couponData_ogrf['Restaurant20To50'] = couponData_ogrf['Restaurant20To50'].fillna(\"less1\")\n",
        "# couponData_ogrf['occupation'].replace(to_replace =[\"Food Preparation & Serving Related\",\"Healthcare Practitioners & Technical\",\"Community & Social Services\",\"Healthcare Support\",\"Legal\", \"Transportation & Material Moving\",\"Life Physical Social Science\", \"Architecture & Engineering\",\"Personal Care & Service\", \"Protective Service\",\"Construction & Extraction\",\"Installation Maintenance & Repair\",\"Production Occupations\", \"Building & Grounds Cleaning & Maintenance\", \"Farming Fishing & Forestry\"],value = \"Others\",inplace=True)\n",
        "\n",
        "le = LabelEncoder()\n",
        "\n",
        "couponData_ogrf['destination'] = le.fit_transform(couponData_ogrf['destination'])\n",
        "couponData_ogrf['passanger'] = le.fit_transform(couponData_ogrf['passanger'])\n",
        "couponData_ogrf['weather'] = le.fit_transform(couponData_ogrf['weather'])\n",
        "couponData_ogrf['time'] = le.fit_transform(couponData_ogrf['time'])\n",
        "couponData_ogrf['coupon'] = le.fit_transform(couponData_ogrf['coupon'])\n",
        "couponData_ogrf['expiration'] = le.fit_transform(couponData_ogrf['expiration'])\n",
        "couponData_ogrf['gender'] = le.fit_transform(couponData_ogrf['gender'])\n",
        "couponData_ogrf['age_category'] = le.fit_transform(couponData_ogrf['age_category'])\n",
        "couponData_ogrf['maritalStatus'] = le.fit_transform(couponData_ogrf['maritalStatus'])\n",
        "couponData_ogrf['education'] = le.fit_transform(couponData_ogrf['education'])\n",
        "couponData_ogrf['occupation'] = le.fit_transform(couponData_ogrf['occupation'])\n",
        "couponData_ogrf['income'] = le.fit_transform(couponData_ogrf['income'])\n",
        "couponData_ogrf['Bar'] = le.fit_transform(couponData_ogrf['Bar'])\n",
        "couponData_ogrf['CoffeeHouse'] = le.fit_transform(couponData_ogrf['CoffeeHouse'])\n",
        "couponData_ogrf['CarryAway'] = le.fit_transform(couponData_ogrf['CarryAway'])\n",
        "couponData_ogrf['RestaurantLessThan20'] = le.fit_transform(couponData_ogrf['RestaurantLessThan20'])\n",
        "couponData_ogrf['Restaurant20To50'] = le.fit_transform(couponData_ogrf['Restaurant20To50'])\n",
        "couponData_ogrf.head()"
      ],
      "execution_count": 34,
      "outputs": [
        {
          "output_type": "stream",
          "text": [
            "/usr/local/lib/python3.7/dist-packages/ipykernel_launcher.py:3: SettingWithCopyWarning: \n",
            "A value is trying to be set on a copy of a slice from a DataFrame.\n",
            "Try using .loc[row_indexer,col_indexer] = value instead\n",
            "\n",
            "See the caveats in the documentation: https://pandas.pydata.org/pandas-docs/stable/user_guide/indexing.html#returning-a-view-versus-a-copy\n",
            "  This is separate from the ipykernel package so we can avoid doing imports until\n",
            "/usr/local/lib/python3.7/dist-packages/ipykernel_launcher.py:4: SettingWithCopyWarning: \n",
            "A value is trying to be set on a copy of a slice from a DataFrame.\n",
            "Try using .loc[row_indexer,col_indexer] = value instead\n",
            "\n",
            "See the caveats in the documentation: https://pandas.pydata.org/pandas-docs/stable/user_guide/indexing.html#returning-a-view-versus-a-copy\n",
            "  after removing the cwd from sys.path.\n",
            "/usr/local/lib/python3.7/dist-packages/ipykernel_launcher.py:5: SettingWithCopyWarning: \n",
            "A value is trying to be set on a copy of a slice from a DataFrame.\n",
            "Try using .loc[row_indexer,col_indexer] = value instead\n",
            "\n",
            "See the caveats in the documentation: https://pandas.pydata.org/pandas-docs/stable/user_guide/indexing.html#returning-a-view-versus-a-copy\n",
            "  \"\"\"\n",
            "/usr/local/lib/python3.7/dist-packages/ipykernel_launcher.py:6: SettingWithCopyWarning: \n",
            "A value is trying to be set on a copy of a slice from a DataFrame.\n",
            "Try using .loc[row_indexer,col_indexer] = value instead\n",
            "\n",
            "See the caveats in the documentation: https://pandas.pydata.org/pandas-docs/stable/user_guide/indexing.html#returning-a-view-versus-a-copy\n",
            "  \n",
            "/usr/local/lib/python3.7/dist-packages/ipykernel_launcher.py:7: SettingWithCopyWarning: \n",
            "A value is trying to be set on a copy of a slice from a DataFrame.\n",
            "Try using .loc[row_indexer,col_indexer] = value instead\n",
            "\n",
            "See the caveats in the documentation: https://pandas.pydata.org/pandas-docs/stable/user_guide/indexing.html#returning-a-view-versus-a-copy\n",
            "  import sys\n",
            "/usr/local/lib/python3.7/dist-packages/ipykernel_launcher.py:12: SettingWithCopyWarning: \n",
            "A value is trying to be set on a copy of a slice from a DataFrame.\n",
            "Try using .loc[row_indexer,col_indexer] = value instead\n",
            "\n",
            "See the caveats in the documentation: https://pandas.pydata.org/pandas-docs/stable/user_guide/indexing.html#returning-a-view-versus-a-copy\n",
            "  if sys.path[0] == '':\n",
            "/usr/local/lib/python3.7/dist-packages/ipykernel_launcher.py:13: SettingWithCopyWarning: \n",
            "A value is trying to be set on a copy of a slice from a DataFrame.\n",
            "Try using .loc[row_indexer,col_indexer] = value instead\n",
            "\n",
            "See the caveats in the documentation: https://pandas.pydata.org/pandas-docs/stable/user_guide/indexing.html#returning-a-view-versus-a-copy\n",
            "  del sys.path[0]\n",
            "/usr/local/lib/python3.7/dist-packages/ipykernel_launcher.py:14: SettingWithCopyWarning: \n",
            "A value is trying to be set on a copy of a slice from a DataFrame.\n",
            "Try using .loc[row_indexer,col_indexer] = value instead\n",
            "\n",
            "See the caveats in the documentation: https://pandas.pydata.org/pandas-docs/stable/user_guide/indexing.html#returning-a-view-versus-a-copy\n",
            "  \n",
            "/usr/local/lib/python3.7/dist-packages/ipykernel_launcher.py:15: SettingWithCopyWarning: \n",
            "A value is trying to be set on a copy of a slice from a DataFrame.\n",
            "Try using .loc[row_indexer,col_indexer] = value instead\n",
            "\n",
            "See the caveats in the documentation: https://pandas.pydata.org/pandas-docs/stable/user_guide/indexing.html#returning-a-view-versus-a-copy\n",
            "  from ipykernel import kernelapp as app\n",
            "/usr/local/lib/python3.7/dist-packages/ipykernel_launcher.py:16: SettingWithCopyWarning: \n",
            "A value is trying to be set on a copy of a slice from a DataFrame.\n",
            "Try using .loc[row_indexer,col_indexer] = value instead\n",
            "\n",
            "See the caveats in the documentation: https://pandas.pydata.org/pandas-docs/stable/user_guide/indexing.html#returning-a-view-versus-a-copy\n",
            "  app.launch_new_instance()\n",
            "/usr/local/lib/python3.7/dist-packages/ipykernel_launcher.py:17: SettingWithCopyWarning: \n",
            "A value is trying to be set on a copy of a slice from a DataFrame.\n",
            "Try using .loc[row_indexer,col_indexer] = value instead\n",
            "\n",
            "See the caveats in the documentation: https://pandas.pydata.org/pandas-docs/stable/user_guide/indexing.html#returning-a-view-versus-a-copy\n",
            "/usr/local/lib/python3.7/dist-packages/ipykernel_launcher.py:18: SettingWithCopyWarning: \n",
            "A value is trying to be set on a copy of a slice from a DataFrame.\n",
            "Try using .loc[row_indexer,col_indexer] = value instead\n",
            "\n",
            "See the caveats in the documentation: https://pandas.pydata.org/pandas-docs/stable/user_guide/indexing.html#returning-a-view-versus-a-copy\n",
            "/usr/local/lib/python3.7/dist-packages/ipykernel_launcher.py:19: SettingWithCopyWarning: \n",
            "A value is trying to be set on a copy of a slice from a DataFrame.\n",
            "Try using .loc[row_indexer,col_indexer] = value instead\n",
            "\n",
            "See the caveats in the documentation: https://pandas.pydata.org/pandas-docs/stable/user_guide/indexing.html#returning-a-view-versus-a-copy\n",
            "/usr/local/lib/python3.7/dist-packages/ipykernel_launcher.py:20: SettingWithCopyWarning: \n",
            "A value is trying to be set on a copy of a slice from a DataFrame.\n",
            "Try using .loc[row_indexer,col_indexer] = value instead\n",
            "\n",
            "See the caveats in the documentation: https://pandas.pydata.org/pandas-docs/stable/user_guide/indexing.html#returning-a-view-versus-a-copy\n",
            "/usr/local/lib/python3.7/dist-packages/ipykernel_launcher.py:21: SettingWithCopyWarning: \n",
            "A value is trying to be set on a copy of a slice from a DataFrame.\n",
            "Try using .loc[row_indexer,col_indexer] = value instead\n",
            "\n",
            "See the caveats in the documentation: https://pandas.pydata.org/pandas-docs/stable/user_guide/indexing.html#returning-a-view-versus-a-copy\n",
            "/usr/local/lib/python3.7/dist-packages/ipykernel_launcher.py:22: SettingWithCopyWarning: \n",
            "A value is trying to be set on a copy of a slice from a DataFrame.\n",
            "Try using .loc[row_indexer,col_indexer] = value instead\n",
            "\n",
            "See the caveats in the documentation: https://pandas.pydata.org/pandas-docs/stable/user_guide/indexing.html#returning-a-view-versus-a-copy\n",
            "/usr/local/lib/python3.7/dist-packages/ipykernel_launcher.py:23: SettingWithCopyWarning: \n",
            "A value is trying to be set on a copy of a slice from a DataFrame.\n",
            "Try using .loc[row_indexer,col_indexer] = value instead\n",
            "\n",
            "See the caveats in the documentation: https://pandas.pydata.org/pandas-docs/stable/user_guide/indexing.html#returning-a-view-versus-a-copy\n",
            "/usr/local/lib/python3.7/dist-packages/ipykernel_launcher.py:24: SettingWithCopyWarning: \n",
            "A value is trying to be set on a copy of a slice from a DataFrame.\n",
            "Try using .loc[row_indexer,col_indexer] = value instead\n",
            "\n",
            "See the caveats in the documentation: https://pandas.pydata.org/pandas-docs/stable/user_guide/indexing.html#returning-a-view-versus-a-copy\n",
            "/usr/local/lib/python3.7/dist-packages/ipykernel_launcher.py:25: SettingWithCopyWarning: \n",
            "A value is trying to be set on a copy of a slice from a DataFrame.\n",
            "Try using .loc[row_indexer,col_indexer] = value instead\n",
            "\n",
            "See the caveats in the documentation: https://pandas.pydata.org/pandas-docs/stable/user_guide/indexing.html#returning-a-view-versus-a-copy\n",
            "/usr/local/lib/python3.7/dist-packages/ipykernel_launcher.py:26: SettingWithCopyWarning: \n",
            "A value is trying to be set on a copy of a slice from a DataFrame.\n",
            "Try using .loc[row_indexer,col_indexer] = value instead\n",
            "\n",
            "See the caveats in the documentation: https://pandas.pydata.org/pandas-docs/stable/user_guide/indexing.html#returning-a-view-versus-a-copy\n",
            "/usr/local/lib/python3.7/dist-packages/ipykernel_launcher.py:27: SettingWithCopyWarning: \n",
            "A value is trying to be set on a copy of a slice from a DataFrame.\n",
            "Try using .loc[row_indexer,col_indexer] = value instead\n",
            "\n",
            "See the caveats in the documentation: https://pandas.pydata.org/pandas-docs/stable/user_guide/indexing.html#returning-a-view-versus-a-copy\n",
            "/usr/local/lib/python3.7/dist-packages/ipykernel_launcher.py:28: SettingWithCopyWarning: \n",
            "A value is trying to be set on a copy of a slice from a DataFrame.\n",
            "Try using .loc[row_indexer,col_indexer] = value instead\n",
            "\n",
            "See the caveats in the documentation: https://pandas.pydata.org/pandas-docs/stable/user_guide/indexing.html#returning-a-view-versus-a-copy\n"
          ],
          "name": "stderr"
        },
        {
          "output_type": "execute_result",
          "data": {
            "text/html": [
              "<div>\n",
              "<style scoped>\n",
              "    .dataframe tbody tr th:only-of-type {\n",
              "        vertical-align: middle;\n",
              "    }\n",
              "\n",
              "    .dataframe tbody tr th {\n",
              "        vertical-align: top;\n",
              "    }\n",
              "\n",
              "    .dataframe thead th {\n",
              "        text-align: right;\n",
              "    }\n",
              "</style>\n",
              "<table border=\"1\" class=\"dataframe\">\n",
              "  <thead>\n",
              "    <tr style=\"text-align: right;\">\n",
              "      <th></th>\n",
              "      <th>destination</th>\n",
              "      <th>passanger</th>\n",
              "      <th>weather</th>\n",
              "      <th>temperature</th>\n",
              "      <th>time</th>\n",
              "      <th>coupon</th>\n",
              "      <th>expiration</th>\n",
              "      <th>gender</th>\n",
              "      <th>age_category</th>\n",
              "      <th>maritalStatus</th>\n",
              "      <th>has_children</th>\n",
              "      <th>education</th>\n",
              "      <th>occupation</th>\n",
              "      <th>income</th>\n",
              "      <th>Bar</th>\n",
              "      <th>CoffeeHouse</th>\n",
              "      <th>CarryAway</th>\n",
              "      <th>RestaurantLessThan20</th>\n",
              "      <th>Restaurant20To50</th>\n",
              "      <th>toCoupon_GEQ5min</th>\n",
              "      <th>toCoupon_GEQ15min</th>\n",
              "      <th>toCoupon_GEQ25min</th>\n",
              "      <th>direction_same</th>\n",
              "      <th>direction_opp</th>\n",
              "      <th>Y</th>\n",
              "    </tr>\n",
              "  </thead>\n",
              "  <tbody>\n",
              "    <tr>\n",
              "      <th>0</th>\n",
              "      <td>1</td>\n",
              "      <td>1</td>\n",
              "      <td>2</td>\n",
              "      <td>80</td>\n",
              "      <td>3</td>\n",
              "      <td>4</td>\n",
              "      <td>0</td>\n",
              "      <td>1</td>\n",
              "      <td>1</td>\n",
              "      <td>3</td>\n",
              "      <td>0</td>\n",
              "      <td>5</td>\n",
              "      <td>22</td>\n",
              "      <td>8</td>\n",
              "      <td>3</td>\n",
              "      <td>0</td>\n",
              "      <td>1</td>\n",
              "      <td>1</td>\n",
              "      <td>4</td>\n",
              "      <td>1</td>\n",
              "      <td>1</td>\n",
              "      <td>0</td>\n",
              "      <td>0</td>\n",
              "      <td>1</td>\n",
              "      <td>1</td>\n",
              "    </tr>\n",
              "    <tr>\n",
              "      <th>1</th>\n",
              "      <td>2</td>\n",
              "      <td>0</td>\n",
              "      <td>2</td>\n",
              "      <td>80</td>\n",
              "      <td>4</td>\n",
              "      <td>4</td>\n",
              "      <td>1</td>\n",
              "      <td>1</td>\n",
              "      <td>1</td>\n",
              "      <td>2</td>\n",
              "      <td>0</td>\n",
              "      <td>1</td>\n",
              "      <td>22</td>\n",
              "      <td>3</td>\n",
              "      <td>3</td>\n",
              "      <td>0</td>\n",
              "      <td>1</td>\n",
              "      <td>0</td>\n",
              "      <td>3</td>\n",
              "      <td>1</td>\n",
              "      <td>0</td>\n",
              "      <td>0</td>\n",
              "      <td>1</td>\n",
              "      <td>0</td>\n",
              "      <td>0</td>\n",
              "    </tr>\n",
              "    <tr>\n",
              "      <th>2</th>\n",
              "      <td>1</td>\n",
              "      <td>0</td>\n",
              "      <td>2</td>\n",
              "      <td>80</td>\n",
              "      <td>0</td>\n",
              "      <td>2</td>\n",
              "      <td>1</td>\n",
              "      <td>0</td>\n",
              "      <td>1</td>\n",
              "      <td>1</td>\n",
              "      <td>0</td>\n",
              "      <td>5</td>\n",
              "      <td>22</td>\n",
              "      <td>8</td>\n",
              "      <td>3</td>\n",
              "      <td>2</td>\n",
              "      <td>1</td>\n",
              "      <td>0</td>\n",
              "      <td>0</td>\n",
              "      <td>1</td>\n",
              "      <td>1</td>\n",
              "      <td>0</td>\n",
              "      <td>0</td>\n",
              "      <td>1</td>\n",
              "      <td>0</td>\n",
              "    </tr>\n",
              "    <tr>\n",
              "      <th>3</th>\n",
              "      <td>2</td>\n",
              "      <td>0</td>\n",
              "      <td>0</td>\n",
              "      <td>55</td>\n",
              "      <td>4</td>\n",
              "      <td>4</td>\n",
              "      <td>1</td>\n",
              "      <td>0</td>\n",
              "      <td>2</td>\n",
              "      <td>2</td>\n",
              "      <td>0</td>\n",
              "      <td>1</td>\n",
              "      <td>5</td>\n",
              "      <td>2</td>\n",
              "      <td>3</td>\n",
              "      <td>3</td>\n",
              "      <td>1</td>\n",
              "      <td>0</td>\n",
              "      <td>4</td>\n",
              "      <td>1</td>\n",
              "      <td>1</td>\n",
              "      <td>1</td>\n",
              "      <td>0</td>\n",
              "      <td>1</td>\n",
              "      <td>0</td>\n",
              "    </tr>\n",
              "    <tr>\n",
              "      <th>4</th>\n",
              "      <td>0</td>\n",
              "      <td>0</td>\n",
              "      <td>1</td>\n",
              "      <td>30</td>\n",
              "      <td>3</td>\n",
              "      <td>2</td>\n",
              "      <td>0</td>\n",
              "      <td>1</td>\n",
              "      <td>3</td>\n",
              "      <td>2</td>\n",
              "      <td>0</td>\n",
              "      <td>5</td>\n",
              "      <td>24</td>\n",
              "      <td>1</td>\n",
              "      <td>0</td>\n",
              "      <td>3</td>\n",
              "      <td>1</td>\n",
              "      <td>3</td>\n",
              "      <td>4</td>\n",
              "      <td>1</td>\n",
              "      <td>1</td>\n",
              "      <td>0</td>\n",
              "      <td>0</td>\n",
              "      <td>1</td>\n",
              "      <td>0</td>\n",
              "    </tr>\n",
              "  </tbody>\n",
              "</table>\n",
              "</div>"
            ],
            "text/plain": [
              "   destination  passanger  weather  ...  direction_same  direction_opp  Y\n",
              "0            1          1        2  ...               0              1  1\n",
              "1            2          0        2  ...               1              0  0\n",
              "2            1          0        2  ...               0              1  0\n",
              "3            2          0        0  ...               0              1  0\n",
              "4            0          0        1  ...               0              1  0\n",
              "\n",
              "[5 rows x 25 columns]"
            ]
          },
          "metadata": {
            "tags": []
          },
          "execution_count": 34
        }
      ]
    },
    {
      "cell_type": "code",
      "metadata": {
        "colab": {
          "base_uri": "https://localhost:8080/"
        },
        "id": "RKMEGMrjLmFv",
        "outputId": "b488e445-da96-48d1-ff5f-2ad3e8e52a46"
      },
      "source": [
        "# # Labels are the values we want to predict\n",
        "# y = np.array(couponData_ogrf['Y'])\n",
        "\n",
        "# # Remove the labels from the features\n",
        "# # axis 1 refers to the columns\n",
        "# X= couponData_ogrf.drop('Y', axis = 1)\n",
        "\n",
        "# # Saving feature names for later use\n",
        "# feature_list = list(couponData_ogrf.columns)\n",
        "# # Convert to numpy array\n",
        "# X = np.array(X)\n",
        "\n",
        "X = couponData_ogrf.drop(['Y'], axis=1).copy()\n",
        "y = couponData_ogrf.Y\n",
        "\n",
        "X_train, X_test, y_train, y_test = train_test_split(X, y, test_size=0.25, random_state=1, stratify=y)\n",
        "clf = RandomForestClassifier(max_samples=0.9,n_estimators=1000,max_features=16)\n",
        "clf.fit(X_train, y_train)\n",
        "\n",
        "# Make predictions for the test set\n",
        "y_pred_test = clf.predict(X_test)\n",
        "\n",
        "clf.score(X_test, y_test)"
      ],
      "execution_count": 35,
      "outputs": [
        {
          "output_type": "execute_result",
          "data": {
            "text/plain": [
              "0.7540402049664958"
            ]
          },
          "metadata": {
            "tags": []
          },
          "execution_count": 35
        }
      ]
    },
    {
      "cell_type": "code",
      "metadata": {
        "colab": {
          "base_uri": "https://localhost:8080/"
        },
        "id": "gAwaowB0jp6U",
        "outputId": "e1ba15f5-3021-4fbd-8965-7c401b1edd56"
      },
      "source": [
        "# View confusion matrix for test data and predictions\n",
        "confusion_matrix(y_test, y_pred_test)"
      ],
      "execution_count": 36,
      "outputs": [
        {
          "output_type": "execute_result",
          "data": {
            "text/plain": [
              "array([[ 723,  372],\n",
              "       [ 252, 1190]])"
            ]
          },
          "metadata": {
            "tags": []
          },
          "execution_count": 36
        }
      ]
    },
    {
      "cell_type": "code",
      "metadata": {
        "colab": {
          "base_uri": "https://localhost:8080/"
        },
        "id": "prvvGMFoxO-P",
        "outputId": "41993882-740f-446f-8320-ab6ceaf56991"
      },
      "source": [
        "# View the classification report for test data and predictions\n",
        "print(classification_report(y_test, y_pred_test))"
      ],
      "execution_count": 37,
      "outputs": [
        {
          "output_type": "stream",
          "text": [
            "              precision    recall  f1-score   support\n",
            "\n",
            "           0       0.74      0.66      0.70      1095\n",
            "           1       0.76      0.83      0.79      1442\n",
            "\n",
            "    accuracy                           0.75      2537\n",
            "   macro avg       0.75      0.74      0.75      2537\n",
            "weighted avg       0.75      0.75      0.75      2537\n",
            "\n"
          ],
          "name": "stdout"
        }
      ]
    },
    {
      "cell_type": "code",
      "metadata": {
        "colab": {
          "base_uri": "https://localhost:8080/"
        },
        "id": "urgYMYuQLOg_",
        "outputId": "559d5767-9c0f-45f8-cb28-f5ad7e6859ae"
      },
      "source": [
        "clf = DecisionTreeClassifier()\n",
        "clf.fit(X_train, y_train)\n",
        "y_pred_dt = clf.predict(X_test)\n",
        "accuracy_score(y_test, y_pred_dt)"
      ],
      "execution_count": 38,
      "outputs": [
        {
          "output_type": "execute_result",
          "data": {
            "text/plain": [
              "0.6819077650768625"
            ]
          },
          "metadata": {
            "tags": []
          },
          "execution_count": 38
        }
      ]
    },
    {
      "cell_type": "code",
      "metadata": {
        "colab": {
          "base_uri": "https://localhost:8080/"
        },
        "id": "bxj-9j5zLZcI",
        "outputId": "561dc38d-8cd8-497b-b6ba-85c78eab3672"
      },
      "source": [
        "clf = RandomForestClassifier(max_samples=0.9,n_estimators=1000,max_features=16)\n",
        "clf.fit(X_train, y_train)\n",
        "y_pred_rf = clf.predict(X_test)\n",
        "accuracy_score(y_test, y_pred_rf)"
      ],
      "execution_count": 39,
      "outputs": [
        {
          "output_type": "execute_result",
          "data": {
            "text/plain": [
              "0.7520693732755223"
            ]
          },
          "metadata": {
            "tags": []
          },
          "execution_count": 39
        }
      ]
    },
    {
      "cell_type": "code",
      "metadata": {
        "colab": {
          "base_uri": "https://localhost:8080/"
        },
        "id": "NQjGKJQlK2V_",
        "outputId": "cf859408-470f-4dc2-8277-f9e5728c54f9"
      },
      "source": [
        "clf = AdaBoostClassifier(n_estimators=50)\n",
        "clf.fit(X_train, y_train)\n",
        "y_pred_ada = clf.predict(X_test)\n",
        "accuracy_score(y_test, y_pred_ada)"
      ],
      "execution_count": 40,
      "outputs": [
        {
          "output_type": "execute_result",
          "data": {
            "text/plain": [
              "0.6862435947970044"
            ]
          },
          "metadata": {
            "tags": []
          },
          "execution_count": 40
        }
      ]
    },
    {
      "cell_type": "code",
      "metadata": {
        "colab": {
          "base_uri": "https://localhost:8080/"
        },
        "id": "NgG0D__cLiqU",
        "outputId": "7e88bc03-72dc-4c3c-99de-07c491b3ca8c"
      },
      "source": [
        "clf = GradientBoostingClassifier(n_estimators=50)\n",
        "clf.fit(X_train, y_train)\n",
        "y_pred_gdb = clf.predict(X_test)\n",
        "accuracy_score(y_test, y_pred_gdb)"
      ],
      "execution_count": 41,
      "outputs": [
        {
          "output_type": "execute_result",
          "data": {
            "text/plain": [
              "0.7162002364998029"
            ]
          },
          "metadata": {
            "tags": []
          },
          "execution_count": 41
        }
      ]
    },
    {
      "cell_type": "code",
      "metadata": {
        "id": "V-16o2ItyGae",
        "colab": {
          "base_uri": "https://localhost:8080/",
          "height": 1000
        },
        "outputId": "6da645ca-bc8f-44bf-f994-bf2038c69b5b"
      },
      "source": [
        "data = pd.read_csv('/content/drive/MyDrive/TSW_IIT_HACKATHON_#1/test.csv')\n",
        "customer_id_test = data['customer_id']\n",
        "data['age_category'] = data['age'].apply(ageCategorization)\n",
        "GEQ_Sum = data['toCoupon_GEQ5min'] + data['toCoupon_GEQ15min'] + data['toCoupon_GEQ25min']\n",
        "data['GEQ_Cat_Sum'] = GEQ_Sum\n",
        "data['GEQ_Category'] = data['GEQ_Cat_Sum'].apply(GEQCategory)\n",
        "\n",
        "couponData_ogrf_test = data[['destination','passanger','weather','temperature','time','coupon','expiration','gender','age_category','maritalStatus','has_children','education','occupation','income','Bar','CoffeeHouse','CarryAway','RestaurantLessThan20','Restaurant20To50','toCoupon_GEQ5min','toCoupon_GEQ15min','toCoupon_GEQ25min','direction_same','direction_opp']]\n",
        "couponData_ogrf_test['Bar'] = couponData_ogrf_test['Bar'].fillna(\"never\")\n",
        "couponData_ogrf_test['CoffeeHouse'] = couponData_ogrf_test['CoffeeHouse'].fillna(\"less1\")\n",
        "couponData_ogrf_test['CarryAway'] = couponData_ogrf_test['CarryAway'].fillna(\"4~8\")\n",
        "couponData_ogrf_test['RestaurantLessThan20'] = couponData_ogrf_test['RestaurantLessThan20'].fillna(\"1~3\")\n",
        "couponData_ogrf_test['Restaurant20To50'] = couponData_ogrf_test['Restaurant20To50'].fillna(\"less1\")\n",
        "# couponData_ogrf_test['occupation'].replace(to_replace =[\"Food Preparation & Serving Related\",\"Healthcare Practitioners & Technical\",\"Community & Social Services\",\"Healthcare Support\",\"Legal\", \"Transportation & Material Moving\",\"Life Physical Social Science\", \"Architecture & Engineering\",\"Personal Care & Service\", \"Protective Service\",\"Construction & Extraction\",\"Installation Maintenance & Repair\",\"Production Occupations\", \"Building & Grounds Cleaning & Maintenance\", \"Farming Fishing & Forestry\"],value = \"Others\",inplace=True)\n",
        "\n",
        "le = LabelEncoder()\n",
        "\n",
        "couponData_ogrf_test['destination'] = le.fit_transform(couponData_ogrf_test['destination'])\n",
        "couponData_ogrf_test['passanger'] = le.fit_transform(couponData_ogrf_test['passanger'])\n",
        "couponData_ogrf_test['weather'] = le.fit_transform(couponData_ogrf_test['weather'])\n",
        "couponData_ogrf_test['time'] = le.fit_transform(couponData_ogrf_test['time'])\n",
        "couponData_ogrf_test['coupon'] = le.fit_transform(couponData_ogrf_test['coupon'])\n",
        "couponData_ogrf_test['expiration'] = le.fit_transform(couponData_ogrf_test['expiration'])\n",
        "couponData_ogrf_test['gender'] = le.fit_transform(couponData_ogrf_test['gender'])\n",
        "couponData_ogrf_test['age_category'] = le.fit_transform(couponData_ogrf_test['age_category'])\n",
        "couponData_ogrf_test['maritalStatus'] = le.fit_transform(couponData_ogrf_test['maritalStatus'])\n",
        "couponData_ogrf_test['education'] = le.fit_transform(couponData_ogrf_test['education'])\n",
        "couponData_ogrf_test['occupation'] = le.fit_transform(couponData_ogrf_test['occupation'])\n",
        "couponData_ogrf_test['income'] = le.fit_transform(couponData_ogrf_test['income'])\n",
        "couponData_ogrf_test['Bar'] = le.fit_transform(couponData_ogrf_test['Bar'])\n",
        "couponData_ogrf_test['CoffeeHouse'] = le.fit_transform(couponData_ogrf_test['CoffeeHouse'])\n",
        "couponData_ogrf_test['CarryAway'] = le.fit_transform(couponData_ogrf_test['CarryAway'])\n",
        "couponData_ogrf_test['RestaurantLessThan20'] = le.fit_transform(couponData_ogrf_test['RestaurantLessThan20'])\n",
        "couponData_ogrf_test['Restaurant20To50'] = le.fit_transform(couponData_ogrf_test['Restaurant20To50'])\n",
        "couponData_ogrf_test.head()"
      ],
      "execution_count": 42,
      "outputs": [
        {
          "output_type": "stream",
          "text": [
            "/usr/local/lib/python3.7/dist-packages/ipykernel_launcher.py:9: SettingWithCopyWarning: \n",
            "A value is trying to be set on a copy of a slice from a DataFrame.\n",
            "Try using .loc[row_indexer,col_indexer] = value instead\n",
            "\n",
            "See the caveats in the documentation: https://pandas.pydata.org/pandas-docs/stable/user_guide/indexing.html#returning-a-view-versus-a-copy\n",
            "  if __name__ == '__main__':\n",
            "/usr/local/lib/python3.7/dist-packages/ipykernel_launcher.py:10: SettingWithCopyWarning: \n",
            "A value is trying to be set on a copy of a slice from a DataFrame.\n",
            "Try using .loc[row_indexer,col_indexer] = value instead\n",
            "\n",
            "See the caveats in the documentation: https://pandas.pydata.org/pandas-docs/stable/user_guide/indexing.html#returning-a-view-versus-a-copy\n",
            "  # Remove the CWD from sys.path while we load stuff.\n",
            "/usr/local/lib/python3.7/dist-packages/ipykernel_launcher.py:11: SettingWithCopyWarning: \n",
            "A value is trying to be set on a copy of a slice from a DataFrame.\n",
            "Try using .loc[row_indexer,col_indexer] = value instead\n",
            "\n",
            "See the caveats in the documentation: https://pandas.pydata.org/pandas-docs/stable/user_guide/indexing.html#returning-a-view-versus-a-copy\n",
            "  # This is added back by InteractiveShellApp.init_path()\n",
            "/usr/local/lib/python3.7/dist-packages/ipykernel_launcher.py:12: SettingWithCopyWarning: \n",
            "A value is trying to be set on a copy of a slice from a DataFrame.\n",
            "Try using .loc[row_indexer,col_indexer] = value instead\n",
            "\n",
            "See the caveats in the documentation: https://pandas.pydata.org/pandas-docs/stable/user_guide/indexing.html#returning-a-view-versus-a-copy\n",
            "  if sys.path[0] == '':\n",
            "/usr/local/lib/python3.7/dist-packages/ipykernel_launcher.py:13: SettingWithCopyWarning: \n",
            "A value is trying to be set on a copy of a slice from a DataFrame.\n",
            "Try using .loc[row_indexer,col_indexer] = value instead\n",
            "\n",
            "See the caveats in the documentation: https://pandas.pydata.org/pandas-docs/stable/user_guide/indexing.html#returning-a-view-versus-a-copy\n",
            "  del sys.path[0]\n",
            "/usr/local/lib/python3.7/dist-packages/ipykernel_launcher.py:18: SettingWithCopyWarning: \n",
            "A value is trying to be set on a copy of a slice from a DataFrame.\n",
            "Try using .loc[row_indexer,col_indexer] = value instead\n",
            "\n",
            "See the caveats in the documentation: https://pandas.pydata.org/pandas-docs/stable/user_guide/indexing.html#returning-a-view-versus-a-copy\n",
            "/usr/local/lib/python3.7/dist-packages/ipykernel_launcher.py:19: SettingWithCopyWarning: \n",
            "A value is trying to be set on a copy of a slice from a DataFrame.\n",
            "Try using .loc[row_indexer,col_indexer] = value instead\n",
            "\n",
            "See the caveats in the documentation: https://pandas.pydata.org/pandas-docs/stable/user_guide/indexing.html#returning-a-view-versus-a-copy\n",
            "/usr/local/lib/python3.7/dist-packages/ipykernel_launcher.py:20: SettingWithCopyWarning: \n",
            "A value is trying to be set on a copy of a slice from a DataFrame.\n",
            "Try using .loc[row_indexer,col_indexer] = value instead\n",
            "\n",
            "See the caveats in the documentation: https://pandas.pydata.org/pandas-docs/stable/user_guide/indexing.html#returning-a-view-versus-a-copy\n",
            "/usr/local/lib/python3.7/dist-packages/ipykernel_launcher.py:21: SettingWithCopyWarning: \n",
            "A value is trying to be set on a copy of a slice from a DataFrame.\n",
            "Try using .loc[row_indexer,col_indexer] = value instead\n",
            "\n",
            "See the caveats in the documentation: https://pandas.pydata.org/pandas-docs/stable/user_guide/indexing.html#returning-a-view-versus-a-copy\n",
            "/usr/local/lib/python3.7/dist-packages/ipykernel_launcher.py:22: SettingWithCopyWarning: \n",
            "A value is trying to be set on a copy of a slice from a DataFrame.\n",
            "Try using .loc[row_indexer,col_indexer] = value instead\n",
            "\n",
            "See the caveats in the documentation: https://pandas.pydata.org/pandas-docs/stable/user_guide/indexing.html#returning-a-view-versus-a-copy\n",
            "/usr/local/lib/python3.7/dist-packages/ipykernel_launcher.py:23: SettingWithCopyWarning: \n",
            "A value is trying to be set on a copy of a slice from a DataFrame.\n",
            "Try using .loc[row_indexer,col_indexer] = value instead\n",
            "\n",
            "See the caveats in the documentation: https://pandas.pydata.org/pandas-docs/stable/user_guide/indexing.html#returning-a-view-versus-a-copy\n",
            "/usr/local/lib/python3.7/dist-packages/ipykernel_launcher.py:24: SettingWithCopyWarning: \n",
            "A value is trying to be set on a copy of a slice from a DataFrame.\n",
            "Try using .loc[row_indexer,col_indexer] = value instead\n",
            "\n",
            "See the caveats in the documentation: https://pandas.pydata.org/pandas-docs/stable/user_guide/indexing.html#returning-a-view-versus-a-copy\n",
            "/usr/local/lib/python3.7/dist-packages/ipykernel_launcher.py:25: SettingWithCopyWarning: \n",
            "A value is trying to be set on a copy of a slice from a DataFrame.\n",
            "Try using .loc[row_indexer,col_indexer] = value instead\n",
            "\n",
            "See the caveats in the documentation: https://pandas.pydata.org/pandas-docs/stable/user_guide/indexing.html#returning-a-view-versus-a-copy\n",
            "/usr/local/lib/python3.7/dist-packages/ipykernel_launcher.py:26: SettingWithCopyWarning: \n",
            "A value is trying to be set on a copy of a slice from a DataFrame.\n",
            "Try using .loc[row_indexer,col_indexer] = value instead\n",
            "\n",
            "See the caveats in the documentation: https://pandas.pydata.org/pandas-docs/stable/user_guide/indexing.html#returning-a-view-versus-a-copy\n",
            "/usr/local/lib/python3.7/dist-packages/ipykernel_launcher.py:27: SettingWithCopyWarning: \n",
            "A value is trying to be set on a copy of a slice from a DataFrame.\n",
            "Try using .loc[row_indexer,col_indexer] = value instead\n",
            "\n",
            "See the caveats in the documentation: https://pandas.pydata.org/pandas-docs/stable/user_guide/indexing.html#returning-a-view-versus-a-copy\n",
            "/usr/local/lib/python3.7/dist-packages/ipykernel_launcher.py:28: SettingWithCopyWarning: \n",
            "A value is trying to be set on a copy of a slice from a DataFrame.\n",
            "Try using .loc[row_indexer,col_indexer] = value instead\n",
            "\n",
            "See the caveats in the documentation: https://pandas.pydata.org/pandas-docs/stable/user_guide/indexing.html#returning-a-view-versus-a-copy\n",
            "/usr/local/lib/python3.7/dist-packages/ipykernel_launcher.py:29: SettingWithCopyWarning: \n",
            "A value is trying to be set on a copy of a slice from a DataFrame.\n",
            "Try using .loc[row_indexer,col_indexer] = value instead\n",
            "\n",
            "See the caveats in the documentation: https://pandas.pydata.org/pandas-docs/stable/user_guide/indexing.html#returning-a-view-versus-a-copy\n",
            "/usr/local/lib/python3.7/dist-packages/ipykernel_launcher.py:30: SettingWithCopyWarning: \n",
            "A value is trying to be set on a copy of a slice from a DataFrame.\n",
            "Try using .loc[row_indexer,col_indexer] = value instead\n",
            "\n",
            "See the caveats in the documentation: https://pandas.pydata.org/pandas-docs/stable/user_guide/indexing.html#returning-a-view-versus-a-copy\n",
            "/usr/local/lib/python3.7/dist-packages/ipykernel_launcher.py:31: SettingWithCopyWarning: \n",
            "A value is trying to be set on a copy of a slice from a DataFrame.\n",
            "Try using .loc[row_indexer,col_indexer] = value instead\n",
            "\n",
            "See the caveats in the documentation: https://pandas.pydata.org/pandas-docs/stable/user_guide/indexing.html#returning-a-view-versus-a-copy\n",
            "/usr/local/lib/python3.7/dist-packages/ipykernel_launcher.py:32: SettingWithCopyWarning: \n",
            "A value is trying to be set on a copy of a slice from a DataFrame.\n",
            "Try using .loc[row_indexer,col_indexer] = value instead\n",
            "\n",
            "See the caveats in the documentation: https://pandas.pydata.org/pandas-docs/stable/user_guide/indexing.html#returning-a-view-versus-a-copy\n",
            "/usr/local/lib/python3.7/dist-packages/ipykernel_launcher.py:33: SettingWithCopyWarning: \n",
            "A value is trying to be set on a copy of a slice from a DataFrame.\n",
            "Try using .loc[row_indexer,col_indexer] = value instead\n",
            "\n",
            "See the caveats in the documentation: https://pandas.pydata.org/pandas-docs/stable/user_guide/indexing.html#returning-a-view-versus-a-copy\n",
            "/usr/local/lib/python3.7/dist-packages/ipykernel_launcher.py:34: SettingWithCopyWarning: \n",
            "A value is trying to be set on a copy of a slice from a DataFrame.\n",
            "Try using .loc[row_indexer,col_indexer] = value instead\n",
            "\n",
            "See the caveats in the documentation: https://pandas.pydata.org/pandas-docs/stable/user_guide/indexing.html#returning-a-view-versus-a-copy\n"
          ],
          "name": "stderr"
        },
        {
          "output_type": "execute_result",
          "data": {
            "text/html": [
              "<div>\n",
              "<style scoped>\n",
              "    .dataframe tbody tr th:only-of-type {\n",
              "        vertical-align: middle;\n",
              "    }\n",
              "\n",
              "    .dataframe tbody tr th {\n",
              "        vertical-align: top;\n",
              "    }\n",
              "\n",
              "    .dataframe thead th {\n",
              "        text-align: right;\n",
              "    }\n",
              "</style>\n",
              "<table border=\"1\" class=\"dataframe\">\n",
              "  <thead>\n",
              "    <tr style=\"text-align: right;\">\n",
              "      <th></th>\n",
              "      <th>destination</th>\n",
              "      <th>passanger</th>\n",
              "      <th>weather</th>\n",
              "      <th>temperature</th>\n",
              "      <th>time</th>\n",
              "      <th>coupon</th>\n",
              "      <th>expiration</th>\n",
              "      <th>gender</th>\n",
              "      <th>age_category</th>\n",
              "      <th>maritalStatus</th>\n",
              "      <th>has_children</th>\n",
              "      <th>education</th>\n",
              "      <th>occupation</th>\n",
              "      <th>income</th>\n",
              "      <th>Bar</th>\n",
              "      <th>CoffeeHouse</th>\n",
              "      <th>CarryAway</th>\n",
              "      <th>RestaurantLessThan20</th>\n",
              "      <th>Restaurant20To50</th>\n",
              "      <th>toCoupon_GEQ5min</th>\n",
              "      <th>toCoupon_GEQ15min</th>\n",
              "      <th>toCoupon_GEQ25min</th>\n",
              "      <th>direction_same</th>\n",
              "      <th>direction_opp</th>\n",
              "    </tr>\n",
              "  </thead>\n",
              "  <tbody>\n",
              "    <tr>\n",
              "      <th>0</th>\n",
              "      <td>1</td>\n",
              "      <td>1</td>\n",
              "      <td>2</td>\n",
              "      <td>80</td>\n",
              "      <td>3</td>\n",
              "      <td>2</td>\n",
              "      <td>0</td>\n",
              "      <td>0</td>\n",
              "      <td>1</td>\n",
              "      <td>2</td>\n",
              "      <td>0</td>\n",
              "      <td>5</td>\n",
              "      <td>11</td>\n",
              "      <td>8</td>\n",
              "      <td>4</td>\n",
              "      <td>0</td>\n",
              "      <td>3</td>\n",
              "      <td>1</td>\n",
              "      <td>3</td>\n",
              "      <td>1</td>\n",
              "      <td>0</td>\n",
              "      <td>0</td>\n",
              "      <td>0</td>\n",
              "      <td>1</td>\n",
              "    </tr>\n",
              "    <tr>\n",
              "      <th>1</th>\n",
              "      <td>0</td>\n",
              "      <td>0</td>\n",
              "      <td>2</td>\n",
              "      <td>80</td>\n",
              "      <td>3</td>\n",
              "      <td>1</td>\n",
              "      <td>1</td>\n",
              "      <td>1</td>\n",
              "      <td>1</td>\n",
              "      <td>3</td>\n",
              "      <td>0</td>\n",
              "      <td>3</td>\n",
              "      <td>9</td>\n",
              "      <td>1</td>\n",
              "      <td>0</td>\n",
              "      <td>4</td>\n",
              "      <td>2</td>\n",
              "      <td>1</td>\n",
              "      <td>0</td>\n",
              "      <td>1</td>\n",
              "      <td>1</td>\n",
              "      <td>0</td>\n",
              "      <td>1</td>\n",
              "      <td>0</td>\n",
              "    </tr>\n",
              "    <tr>\n",
              "      <th>2</th>\n",
              "      <td>1</td>\n",
              "      <td>0</td>\n",
              "      <td>0</td>\n",
              "      <td>55</td>\n",
              "      <td>0</td>\n",
              "      <td>2</td>\n",
              "      <td>0</td>\n",
              "      <td>0</td>\n",
              "      <td>2</td>\n",
              "      <td>1</td>\n",
              "      <td>1</td>\n",
              "      <td>5</td>\n",
              "      <td>24</td>\n",
              "      <td>2</td>\n",
              "      <td>4</td>\n",
              "      <td>4</td>\n",
              "      <td>0</td>\n",
              "      <td>3</td>\n",
              "      <td>4</td>\n",
              "      <td>1</td>\n",
              "      <td>1</td>\n",
              "      <td>0</td>\n",
              "      <td>0</td>\n",
              "      <td>1</td>\n",
              "    </tr>\n",
              "    <tr>\n",
              "      <th>3</th>\n",
              "      <td>1</td>\n",
              "      <td>3</td>\n",
              "      <td>2</td>\n",
              "      <td>80</td>\n",
              "      <td>3</td>\n",
              "      <td>0</td>\n",
              "      <td>0</td>\n",
              "      <td>1</td>\n",
              "      <td>0</td>\n",
              "      <td>3</td>\n",
              "      <td>1</td>\n",
              "      <td>0</td>\n",
              "      <td>20</td>\n",
              "      <td>4</td>\n",
              "      <td>4</td>\n",
              "      <td>1</td>\n",
              "      <td>1</td>\n",
              "      <td>0</td>\n",
              "      <td>3</td>\n",
              "      <td>1</td>\n",
              "      <td>1</td>\n",
              "      <td>0</td>\n",
              "      <td>0</td>\n",
              "      <td>1</td>\n",
              "    </tr>\n",
              "    <tr>\n",
              "      <th>4</th>\n",
              "      <td>2</td>\n",
              "      <td>0</td>\n",
              "      <td>2</td>\n",
              "      <td>30</td>\n",
              "      <td>4</td>\n",
              "      <td>1</td>\n",
              "      <td>0</td>\n",
              "      <td>0</td>\n",
              "      <td>2</td>\n",
              "      <td>1</td>\n",
              "      <td>0</td>\n",
              "      <td>5</td>\n",
              "      <td>16</td>\n",
              "      <td>6</td>\n",
              "      <td>4</td>\n",
              "      <td>4</td>\n",
              "      <td>0</td>\n",
              "      <td>1</td>\n",
              "      <td>3</td>\n",
              "      <td>1</td>\n",
              "      <td>1</td>\n",
              "      <td>0</td>\n",
              "      <td>0</td>\n",
              "      <td>1</td>\n",
              "    </tr>\n",
              "  </tbody>\n",
              "</table>\n",
              "</div>"
            ],
            "text/plain": [
              "   destination  passanger  ...  direction_same  direction_opp\n",
              "0            1          1  ...               0              1\n",
              "1            0          0  ...               1              0\n",
              "2            1          0  ...               0              1\n",
              "3            1          3  ...               0              1\n",
              "4            2          0  ...               0              1\n",
              "\n",
              "[5 rows x 24 columns]"
            ]
          },
          "metadata": {
            "tags": []
          },
          "execution_count": 42
        }
      ]
    },
    {
      "cell_type": "code",
      "metadata": {
        "id": "cixawrqAb4_G"
      },
      "source": [
        "clf = RandomForestClassifier()\n",
        "clf.fit(X, y)\n",
        "\n",
        "# Make predictions for the test set\n",
        "y_pred_test = clf.predict(couponData_ogrf_test)\n",
        "\n",
        "finalDF = pd.DataFrame({'customer_id':customer_id_test, 'Y':y_pred_test})\n",
        "finalDF.to_csv('team9_ml_junkies_rf1.csv')"
      ],
      "execution_count": 43,
      "outputs": []
    },
    {
      "cell_type": "code",
      "metadata": {
        "id": "V-1RY1HFNGJx"
      },
      "source": [
        "# compare standalone models for binary classification\n",
        "from numpy import mean\n",
        "from numpy import std\n",
        "from sklearn.datasets import make_classification\n",
        "from sklearn.model_selection import cross_val_score\n",
        "from sklearn.model_selection import RepeatedStratifiedKFold\n",
        "from matplotlib import pyplot\n",
        "from sklearn.ensemble import BaggingClassifier\n",
        " \n",
        "# get the dataset\n",
        "def get_dataset():\n",
        "\tX, y = make_classification(n_samples=1000, n_features=20, n_informative=15, n_redundant=5, random_state=1)\n",
        "\treturn X, y\n",
        "\n",
        "# get a stacking ensemble of models\n",
        "def get_stacking():\n",
        "\t# define the base models\n",
        "\tlevel0 = list()\n",
        "\t# level0.append(('ada_boost', AdaBoostClassifier()))\n",
        "\tlevel0.append(('rf_boost_entropy', RandomForestClassifier(criterion='entropy')))\n",
        "\tlevel0.append(('rf_boost', RandomForestClassifier(max_samples=0.9,n_estimators=1000,max_features=16))) \n",
        "\t# level0.append(('rfreg_boost', RandomForestRegressor())) \n",
        "\tlevel0.append(('gd_boost', GradientBoostingClassifier()))\n",
        "\tlevel0.append(('bagging', BaggingClassifier()))\n",
        "\t# level0.append(('svm', SVC()))\n",
        "\t# level0.append(('bayes', GaussianNB()))\n",
        "\t# define meta learner model\n",
        "\tlevel1 = LogisticRegression()\n",
        "\t# define the stacking ensemble\n",
        "\tmodel = StackingClassifier(estimators=level0, final_estimator=level1, cv=5)  \n",
        "\treturn model\n",
        "\n",
        "# get a list of models to evaluate\n",
        "def get_models():\n",
        "\tmodels = dict()\n",
        "\t# models['cart'] = DecisionTreeClassifier()\n",
        "\t# models['ada_boost'] = AdaBoostClassifier()\n",
        "\t# models['rf_boost'] = RandomForestClassifier()\n",
        "\t# models['gd_boost'] = GradientBoostingClassifier() \n",
        "\t# models['bagging'] = BaggingClassifier()  \n",
        "\tmodels['stacking'] = get_stacking()  \n",
        "\treturn models\n",
        " \n",
        "# evaluate a given model using cross-validation\n",
        "def evaluate_model(model, X, y):\n",
        "\tcv = RepeatedStratifiedKFold(n_splits=10, n_repeats=3, random_state=1)\n",
        "\tscores = cross_val_score(model, X, y, scoring='accuracy', cv=cv, n_jobs=-1, error_score='raise')\n",
        "\treturn scores\n",
        " \n",
        "# define dataset\n",
        "# X, y = get_dataset()\n",
        "# get the models to evaluate\n",
        "models = get_models()\n",
        "# evaluate the models and store results\n",
        "results, names = list(), list()\n",
        "for name, model in models.items():\n",
        "\tscores = evaluate_model(model, X, y)\n",
        "\tresults.append(scores)\n",
        "\tnames.append(name)\n",
        "\tprint('>%s %.3f (%.3f)' % (name, mean(scores), std(scores)))\n",
        "# plot model performance for comparison\n",
        "pyplot.boxplot(results, labels=names, showmeans=True)\n",
        "pyplot.show()"
      ],
      "execution_count": null,
      "outputs": []
    },
    {
      "cell_type": "code",
      "metadata": {
        "id": "AN4XvkQq7OEK"
      },
      "source": [
        "from sklearn.ensemble import StackingRegressor\n",
        "# define dataset\n",
        "# X, y = make_regression(n_samples=1000, n_features=20, n_informative=15, noise=0.1, random_state=1)\n",
        "# define the base models\n",
        "level0 = list()\n",
        "level0.append(('rf_boost_entropy', RandomForestClassifier(criterion='entropy')))\n",
        "level0.append(('rf_boost', RandomForestClassifier(max_samples=0.9,n_estimators=1000,max_features=16)))\n",
        "level0.append(('gd_boost', GradientBoostingClassifier()))\n",
        "level0.append(('bagging', BaggingClassifier()))\n",
        "# define meta learner model\n",
        "level1 = LogisticRegression()\n",
        "# define the stacking ensemble\n",
        "model = StackingClassifier(estimators=level0, final_estimator=level1, cv=5)\n",
        "# fit the model on all available data\n",
        "model.fit(X, y)\n",
        "# make a prediction for one example\n",
        "\n",
        "yhat = model.predict(couponData_ogrf_test)\n",
        "print(yhat)\n",
        "\n",
        "finalDF = pd.DataFrame({'customer_id':customer_id_test, 'Y':yhat})\n",
        "finalDF.to_csv('team9_ml_junkies_rf_stack_2rf_op3.csv')"
      ],
      "execution_count": null,
      "outputs": []
    }
  ]
}